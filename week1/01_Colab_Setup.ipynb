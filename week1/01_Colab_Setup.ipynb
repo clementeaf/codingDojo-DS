{
  "nbformat": 4,
  "nbformat_minor": 0,
  "metadata": {
    "colab": {
      "provenance": [],
      "authorship_tag": "ABX9TyOJWL53lp8+wNaeux6viuhE",
      "include_colab_link": true
    },
    "kernelspec": {
      "name": "python3",
      "display_name": "Python 3"
    },
    "language_info": {
      "name": "python"
    }
  },
  "cells": [
    {
      "cell_type": "markdown",
      "metadata": {
        "id": "view-in-github",
        "colab_type": "text"
      },
      "source": [
        "<a href=\"https://colab.research.google.com/github/clementeaf/codingDojo-DS/blob/main/week1/01_Colab_Setup.ipynb\" target=\"_parent\"><img src=\"https://colab.research.google.com/assets/colab-badge.svg\" alt=\"Open In Colab\"/></a>"
      ]
    },
    {
      "cell_type": "markdown",
      "source": [
        "## Clemente Arriagada"
      ],
      "metadata": {
        "id": "soxH32MW6AAk"
      }
    },
    {
      "cell_type": "code",
      "source": [
        "1 + 1"
      ],
      "metadata": {
        "colab": {
          "base_uri": "https://localhost:8080/"
        },
        "id": "igljEzD26Uvw",
        "outputId": "93152a53-9c0b-44ba-86c7-ba788206ab27"
      },
      "execution_count": 3,
      "outputs": [
        {
          "output_type": "execute_result",
          "data": {
            "text/plain": [
              "2"
            ]
          },
          "metadata": {},
          "execution_count": 3
        }
      ]
    },
    {
      "cell_type": "code",
      "source": [
        "# Double quotes\n",
        "print('Hello World!')"
      ],
      "metadata": {
        "colab": {
          "base_uri": "https://localhost:8080/"
        },
        "id": "GAXI65wh6-E9",
        "outputId": "d80e4a51-6f1d-4069-9f22-961c8834df2b"
      },
      "execution_count": 4,
      "outputs": [
        {
          "output_type": "stream",
          "name": "stdout",
          "text": [
            "Hello World!\n"
          ]
        }
      ]
    },
    {
      "cell_type": "code",
      "source": [
        "# Assign string \"Jeff\" to variable name\n",
        "name = \"Jeff\"\n",
        "#Print variable name\n",
        "print(name)"
      ],
      "metadata": {
        "colab": {
          "base_uri": "https://localhost:8080/"
        },
        "id": "zzbItubO7Lae",
        "outputId": "58312ddf-3536-4bca-cf00-09f4f45db207"
      },
      "execution_count": 5,
      "outputs": [
        {
          "output_type": "stream",
          "name": "stdout",
          "text": [
            "Jeff\n"
          ]
        }
      ]
    },
    {
      "cell_type": "code",
      "source": [
        "# Multiple line string\n",
        "popularLyric = \"\"\"Blackbird singing in the dead of night\n",
        "Take these broken wings and learn to fly\n",
        "All your life\n",
        "You were only waiting for this moment to arise\"\"\"\n",
        "\n",
        "print(popularLyric.lower())"
      ],
      "metadata": {
        "colab": {
          "base_uri": "https://localhost:8080/"
        },
        "id": "BnMCaLqv7VtP",
        "outputId": "e568fbd4-30de-43a0-9b22-3d6e499a6d6d"
      },
      "execution_count": 8,
      "outputs": [
        {
          "output_type": "stream",
          "name": "stdout",
          "text": [
            "blackbird singing in the dead of night \n",
            "take these broken wings and learn to fly\n",
            "all your life \n",
            "you were only waiting for this moment to arise\n"
          ]
        }
      ]
    },
    {
      "cell_type": "code",
      "source": [
        "print(popularLyric.upper())"
      ],
      "metadata": {
        "colab": {
          "base_uri": "https://localhost:8080/"
        },
        "id": "1CTj9-1572Tf",
        "outputId": "8a9fee79-8115-4e8d-dc4b-a0dab63808f6"
      },
      "execution_count": 9,
      "outputs": [
        {
          "output_type": "stream",
          "name": "stdout",
          "text": [
            "BLACKBIRD SINGING IN THE DEAD OF NIGHT \n",
            "TAKE THESE BROKEN WINGS AND LEARN TO FLY\n",
            "ALL YOUR LIFE \n",
            "YOU WERE ONLY WAITING FOR THIS MOMENT TO ARISE\n"
          ]
        }
      ]
    },
    {
      "cell_type": "code",
      "source": [
        "print(popularLyric.title())"
      ],
      "metadata": {
        "colab": {
          "base_uri": "https://localhost:8080/"
        },
        "id": "Elfuy4FI75g3",
        "outputId": "06abeaa0-c9af-443a-81a5-3f9c8e76013d"
      },
      "execution_count": 10,
      "outputs": [
        {
          "output_type": "stream",
          "name": "stdout",
          "text": [
            "Blackbird Singing In The Dead Of Night \n",
            "Take These Broken Wings And Learn To Fly\n",
            "All Your Life \n",
            "You Were Only Waiting For This Moment To Arise\n"
          ]
        }
      ]
    },
    {
      "cell_type": "code",
      "source": [
        "help(popularLyric.upper)"
      ],
      "metadata": {
        "colab": {
          "base_uri": "https://localhost:8080/"
        },
        "id": "9y1xaQJ17-w3",
        "outputId": "f7767922-5dbd-49a9-c466-c806462e20df"
      },
      "execution_count": 11,
      "outputs": [
        {
          "output_type": "stream",
          "name": "stdout",
          "text": [
            "Help on built-in function upper:\n",
            "\n",
            "upper() method of builtins.str instance\n",
            "    Return a copy of the string converted to uppercase.\n",
            "\n"
          ]
        }
      ]
    }
  ]
}