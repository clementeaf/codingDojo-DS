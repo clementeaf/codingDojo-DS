{
  "nbformat": 4,
  "nbformat_minor": 0,
  "metadata": {
    "colab": {
      "provenance": [],
      "authorship_tag": "ABX9TyPwXjwOhC2ZJJNcorysnfN0",
      "include_colab_link": true
    },
    "kernelspec": {
      "name": "python3",
      "display_name": "Python 3"
    },
    "language_info": {
      "name": "python"
    }
  },
  "cells": [
    {
      "cell_type": "markdown",
      "metadata": {
        "id": "view-in-github",
        "colab_type": "text"
      },
      "source": [
        "<a href=\"https://colab.research.google.com/github/clementeaf/codingDojo-DS/blob/main/week1/Ejercicio_Numpy_panaderia.ipynb\" target=\"_parent\"><img src=\"https://colab.research.google.com/assets/colab-badge.svg\" alt=\"Open In Colab\"/></a>"
      ]
    },
    {
      "cell_type": "code",
      "execution_count": 2,
      "metadata": {
        "id": "NosXQ88CM4fV"
      },
      "outputs": [],
      "source": [
        "import numpy as np"
      ]
    },
    {
      "cell_type": "code",
      "source": [
        "#Listado valores pasteles\n",
        "# $2 -> Brownie\n",
        "# $1 -> Galleta\n",
        "# $10 -> Pastel\n",
        "# $4.50 -> Dulces\n",
        "# $3 -> Magdalena\n",
        "# $4 -> Barra de pan de platano\n",
        "# $9 -> Torta\n",
        "price = np.array([2, 1, 10, 4.50, 3, 4, 9])\n",
        "\n",
        "#Lista de costos\n",
        "# $0.25 -> Hacer Brownie\n",
        "# $0.50 -> Hacer Galleta\n",
        "# $5 -> Hacer pastel\n",
        "# $0.25 -> Dulces\n",
        "# $1.5 -> Magdalena\n",
        "# $2 -> Barra de pan de platano\n",
        "# $6 -> Torta\n",
        "cost = np.array([0.25, 0.50, 5.00, 0.25, 1.5, 2.0, 6.0])\n",
        "\n",
        "#Listado de cantidades, de ventas por producto:\n",
        "# 17 -> Brownies\n",
        "# 39 -> Galletas\n",
        "# 1 -> Pastel\n",
        "# 3 -> Bandejas de dulces\n",
        "# 16 -> Magdalenas\n",
        "# 5 -> Panes de plátano\n",
        "# 2 -> Tartas\n",
        "quantity_sold = np.array([17, 39, 1, 3, 16, 5, 2])\n",
        "\n",
        "\n",
        "## Ventas\n",
        "# 15 Brownie\n",
        "# 20 Galletas\n",
        "# 1 Pastel\n",
        "# 3 Bandejas de dulces\n",
        "# 14 Magdalenas\n",
        "# 3 panes de plátanos\n",
        "# 1 Tartas\n",
        "\n",
        "sales = np.array([15, 20, 1, 3, 14, 3, 1])\n",
        "\n",
        "# Sales earn algorithm\n",
        "def total_profits(quantity_sold, price, cost, sales):\n",
        "  #Calculo de beneficio\n",
        "  benefit = price - cost\n",
        "  #Cálculo de ganancias por venta\n",
        "  profits = sales * benefit\n",
        "\n",
        "  return sum(profits)\n",
        "\n",
        "\n",
        "print(f\"Profits: ${total_profits(quantity_sold, price, cost, sales)}\")\n",
        "\n",
        "quantity_leftover = quantity_sold - sales\n",
        "print(f\"Restante: {quantity_leftover}\")"
      ],
      "metadata": {
        "colab": {
          "base_uri": "https://localhost:8080/"
        },
        "id": "5_lYEF4mN8Pe",
        "outputId": "9e5f70c9-8a53-431c-f104-155d755276a5"
      },
      "execution_count": 7,
      "outputs": [
        {
          "output_type": "stream",
          "name": "stdout",
          "text": [
            "Profits: $84.0\n",
            "Restante: [ 2 19  0  0  2  2  1]\n"
          ]
        }
      ]
    }
  ]
}