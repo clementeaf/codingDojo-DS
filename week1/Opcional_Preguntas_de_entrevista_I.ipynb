{
  "nbformat": 4,
  "nbformat_minor": 0,
  "metadata": {
    "colab": {
      "provenance": [],
      "authorship_tag": "ABX9TyMG1UFctv0RQBZEsAQykf3l",
      "include_colab_link": true
    },
    "kernelspec": {
      "name": "python3",
      "display_name": "Python 3"
    },
    "language_info": {
      "name": "python"
    }
  },
  "cells": [
    {
      "cell_type": "markdown",
      "metadata": {
        "id": "view-in-github",
        "colab_type": "text"
      },
      "source": [
        "<a href=\"https://colab.research.google.com/github/clementeaf/codingDojo-DS/blob/main/week1/Opcional_Preguntas_de_entrevista_I.ipynb\" target=\"_parent\"><img src=\"https://colab.research.google.com/assets/colab-badge.svg\" alt=\"Open In Colab\"/></a>"
      ]
    },
    {
      "cell_type": "code",
      "execution_count": null,
      "metadata": {
        "id": "6XhqaX3Ahnz4"
      },
      "outputs": [],
      "source": [
        "¿Cuál es la diferencia entre una lista y una tupla en Python?\n",
        "  La principal diferencia es que las listas son mutables, se pueden modificar después de su creación,\n",
        "  mientras que las tuplas son inmutables, no se pueden modificar una vez creadas.\n",
        "\n",
        "\n",
        "¿Se requiere indentación en Python?\n",
        "  Es obligatoria y desempeña un papel fundamental en la estructura y la legibilidad.\n",
        "  A diferencia de otros lenguajes de programación que utilizan llaves o palabras clave para delimitar bloques de código, en Python se utiliza la indentación.\n",
        "\n",
        "¿Qué es un comentario en Python y cómo escribirían uno?\n",
        "  se utiliza para entregar información adicional o explicaciones sobre el código. Los comentarios no se ejecutan como parte de el programa y son ignorados por el interpretador de Python.\n",
        "\n",
        "¿Qué es un diccionario en Python?\n",
        "  es una estructura de datos que se utiliza para almacenar y organizar pares de clave-valor. Se le conoce comúnmente como una colección no ordenada, mutable e indexada\n",
        "\n",
        "¿Cómo se convierte una cadena a todas las letras mayúsculas?\n",
        "  el método upper() para convertir una cadena a letras mayúsculas. El método upper() devuelve una nueva cadena en la que todos los caracteres alfabéticos están en mayúsculas.\n",
        "\n",
        "\n",
        "¿Qué son los índices negativos y por qué se utilizan?\n",
        "  los índices negativos se utilizan para acceder a elementos de una secuencia (como una cadena, lista o tupla) desde el final hacia el principio.\n",
        "\n",
        "¿Cómo se puede hacer referencia a un elemento específico dentro de un diccionario de Python?\n",
        "  Utilizando la clave con la cual se encuentra almacenado el elemento.\n",
        "\n",
        "¿Qué hace le hace el método .pop() a una lista?\n",
        "  se utiliza para eliminar y devolver el último elemento de una lista\n",
        "\n",
        "Dada una lista, ¿cómo accederían a los 3 últimos elementos de esa lista?\n",
        "  indexación negativa combinada con la sintaxis de rebanado (slicing), ejemplo: lista[-3:]\n",
        "\n",
        "¿Qué es la función de enumeración y por qué se usa?\n",
        " la función enumerate() se utiliza para iterar sobre una secuencia (como una lista, tupla o cadena) al mismo tiempo que se obtienen tanto el índice como el valor de cada elemento de la secuencia\n"
      ]
    }
  ]
}