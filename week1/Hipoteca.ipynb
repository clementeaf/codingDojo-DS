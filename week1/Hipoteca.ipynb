{
  "nbformat": 4,
  "nbformat_minor": 0,
  "metadata": {
    "colab": {
      "provenance": [],
      "authorship_tag": "ABX9TyNbYxoaKaow5AAKwOify7L1",
      "include_colab_link": true
    },
    "kernelspec": {
      "name": "python3",
      "display_name": "Python 3"
    },
    "language_info": {
      "name": "python"
    }
  },
  "cells": [
    {
      "cell_type": "markdown",
      "metadata": {
        "id": "view-in-github",
        "colab_type": "text"
      },
      "source": [
        "<a href=\"https://colab.research.google.com/github/clementeaf/codingDojo-DS/blob/main/week1/Hipoteca.ipynb\" target=\"_parent\"><img src=\"https://colab.research.google.com/assets/colab-badge.svg\" alt=\"Open In Colab\"/></a>"
      ]
    },
    {
      "cell_type": "markdown",
      "source": [
        "### Basic maths with python"
      ],
      "metadata": {
        "id": "DLUKpqwe8ppU"
      }
    },
    {
      "cell_type": "code",
      "source": [
        "# Add\n",
        "# add two integers togheter\n",
        "1 + 1"
      ],
      "metadata": {
        "colab": {
          "base_uri": "https://localhost:8080/"
        },
        "id": "4mQc4uhn8wyg",
        "outputId": "815a0e68-8116-47b7-f4de-985becea3dc7"
      },
      "execution_count": null,
      "outputs": [
        {
          "output_type": "execute_result",
          "data": {
            "text/plain": [
              "2"
            ]
          },
          "metadata": {},
          "execution_count": 4
        }
      ]
    },
    {
      "cell_type": "code",
      "source": [
        "# Division\n",
        "# integer division\n",
        "129/2"
      ],
      "metadata": {
        "colab": {
          "base_uri": "https://localhost:8080/"
        },
        "id": "1CtTY-_b83bC",
        "outputId": "f160da7d-ba62-4453-f5d5-0fa380ffbaae"
      },
      "execution_count": null,
      "outputs": [
        {
          "output_type": "execute_result",
          "data": {
            "text/plain": [
              "64.5"
            ]
          },
          "metadata": {},
          "execution_count": 5
        }
      ]
    },
    {
      "cell_type": "code",
      "source": [
        "# Exponentiation\n",
        "# This operatior raises the number to its left to the power of the number to its right\n",
        "2**4"
      ],
      "metadata": {
        "colab": {
          "base_uri": "https://localhost:8080/"
        },
        "id": "SukpRutl9B0s",
        "outputId": "576ee373-21ba-42c9-a8d0-77c7ad5bd8c7"
      },
      "execution_count": null,
      "outputs": [
        {
          "output_type": "execute_result",
          "data": {
            "text/plain": [
              "16"
            ]
          },
          "metadata": {},
          "execution_count": 6
        }
      ]
    },
    {
      "cell_type": "code",
      "source": [
        "# Multiplication\n",
        "2*3"
      ],
      "metadata": {
        "colab": {
          "base_uri": "https://localhost:8080/"
        },
        "id": "-rfJzpWH9QjX",
        "outputId": "05fb26a6-ba44-43f0-ffc0-9f638f89e3d1"
      },
      "execution_count": null,
      "outputs": [
        {
          "output_type": "execute_result",
          "data": {
            "text/plain": [
              "6"
            ]
          },
          "metadata": {},
          "execution_count": 7
        }
      ]
    },
    {
      "cell_type": "code",
      "source": [
        "# Rest\n",
        "## The modul (%) operator returns the remainder of the division of the number to the left by the\n",
        "## number of the right\n",
        "20%3\n"
      ],
      "metadata": {
        "colab": {
          "base_uri": "https://localhost:8080/"
        },
        "id": "8reXBFsj9Xyy",
        "outputId": "a959b6be-56b4-4052-9955-64b3d790f3c4"
      },
      "execution_count": null,
      "outputs": [
        {
          "output_type": "execute_result",
          "data": {
            "text/plain": [
              "2"
            ]
          },
          "metadata": {},
          "execution_count": 8
        }
      ]
    },
    {
      "cell_type": "code",
      "source": [
        "## Operations order\n",
        "(1 + 4) /2"
      ],
      "metadata": {
        "colab": {
          "base_uri": "https://localhost:8080/"
        },
        "id": "TdVOD6Rj9vyM",
        "outputId": "3715c43e-bd64-4cbb-fc34-1931de39cce1"
      },
      "execution_count": null,
      "outputs": [
        {
          "output_type": "execute_result",
          "data": {
            "text/plain": [
              "2.5"
            ]
          },
          "metadata": {},
          "execution_count": 9
        }
      ]
    },
    {
      "cell_type": "code",
      "source": [
        "# Diferent result that\n",
        "1 + 4 / 2"
      ],
      "metadata": {
        "colab": {
          "base_uri": "https://localhost:8080/"
        },
        "id": "toRT42EN93Zd",
        "outputId": "3051f75b-da5a-4bea-9a08-15aa62052352"
      },
      "execution_count": null,
      "outputs": [
        {
          "output_type": "execute_result",
          "data": {
            "text/plain": [
              "3.0"
            ]
          },
          "metadata": {},
          "execution_count": 10
        }
      ]
    },
    {
      "cell_type": "markdown",
      "source": [
        "## Ejercicio de cálculo del pago de la hipoteca"
      ],
      "metadata": {
        "id": "J7DCzZyFGqsf"
      }
    },
    {
      "cell_type": "code",
      "source": [
        "def emi(p, r, n):\n",
        "    # for one month interest\n",
        "    r = r/(12*100)\n",
        "    # for one month period\n",
        "    n = n*12\n",
        "    emi = (p*r*pow(1+r,n))/(pow(1+r,n)-1)\n",
        "    return emi\n",
        "\n",
        "p = 400000;\n",
        "r = 3;\n",
        "n = 30;\n",
        "emi = emi(p, r, n);\n",
        "print(\"Pago mensual de hipoteca a 30 años con un capital de 400000 USD y un 3% TAE\",emi)"
      ],
      "metadata": {
        "colab": {
          "base_uri": "https://localhost:8080/"
        },
        "id": "clfW8MhxG1Rv",
        "outputId": "cbee6ca6-3e13-484d-d820-617b04e3c406"
      },
      "execution_count": 6,
      "outputs": [
        {
          "output_type": "stream",
          "name": "stdout",
          "text": [
            "Monthly EMI is=  1686.4161349178241\n"
          ]
        }
      ]
    },
    {
      "cell_type": "code",
      "source": [
        "# P = principal (amount borrowed)\n",
        "# r = interest rate / 12\n",
        "# n = term (number of payments)\n",
        "\n",
        "# P * (r*(pow(1 + r, n))/(pow(1 + r, n)-1))\n",
        "\n",
        "p = 400000\n",
        "r = 3/(12*100)\n",
        "n = 360\n",
        "\n",
        "emi = p * ((r*pow((1 + r), n))/(pow((1 + r), n)-1))\n",
        "print(\"Pago mensual de hipoteca a 30 años con un capital de 400000 USD y un 3% TAE\",emi)"
      ],
      "metadata": {
        "colab": {
          "base_uri": "https://localhost:8080/"
        },
        "id": "uRdFOJcRbtlC",
        "outputId": "6d5f5a47-f493-4d06-9f46-899067dbf142"
      },
      "execution_count": 4,
      "outputs": [
        {
          "output_type": "stream",
          "name": "stdout",
          "text": [
            "1686.4161349178237\n"
          ]
        }
      ]
    },
    {
      "cell_type": "code",
      "source": [
        "p = 400000\n",
        "r = 6/(12*100)\n",
        "n = 360\n",
        "\n",
        "emi_v2 = p * ((r*pow((1 + r), n))/(pow((1 + r), n)-1))\n",
        "\n",
        "print(\"Pago mensual de hipoteca a 30 años con un capital de 400000 USD y un 6% TAE\",emi_v2)"
      ],
      "metadata": {
        "colab": {
          "base_uri": "https://localhost:8080/"
        },
        "id": "GxfrPVlZebv-",
        "outputId": "3a1dc17c-fd82-4123-b4fc-3f7dfa9c7ee9"
      },
      "execution_count": 8,
      "outputs": [
        {
          "output_type": "stream",
          "name": "stdout",
          "text": [
            "Pago mensual de hipoteca a 30 años con un capital de 400000 USD y un 6% TAE 2398.2021006110276\n"
          ]
        }
      ]
    }
  ]
}