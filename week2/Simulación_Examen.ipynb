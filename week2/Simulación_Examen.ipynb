{
  "nbformat": 4,
  "nbformat_minor": 0,
  "metadata": {
    "colab": {
      "provenance": [],
      "authorship_tag": "ABX9TyMgLxrYBI2QqcTJGSlP72bz",
      "include_colab_link": true
    },
    "kernelspec": {
      "name": "python3",
      "display_name": "Python 3"
    },
    "language_info": {
      "name": "python"
    }
  },
  "cells": [
    {
      "cell_type": "markdown",
      "metadata": {
        "id": "view-in-github",
        "colab_type": "text"
      },
      "source": [
        "<a href=\"https://colab.research.google.com/github/clementeaf/codingDojo-DS/blob/main/week2/Simulaci%C3%B3n_Examen.ipynb\" target=\"_parent\"><img src=\"https://colab.research.google.com/assets/colab-badge.svg\" alt=\"Open In Colab\"/></a>"
      ]
    },
    {
      "cell_type": "code",
      "execution_count": 1,
      "metadata": {
        "colab": {
          "base_uri": "https://localhost:8080/"
        },
        "id": "GChiXqfr9APR",
        "outputId": "6cdce97d-b083-40ac-bff9-e3cb1f5d5192"
      },
      "outputs": [
        {
          "output_type": "stream",
          "name": "stdout",
          "text": [
            "Mounted at /content/drive\n"
          ]
        }
      ],
      "source": [
        "from google.colab import drive\n",
        "drive.mount('/content/drive')"
      ]
    },
    {
      "cell_type": "code",
      "source": [
        "import pandas as pd\n",
        "import numpy as np"
      ],
      "metadata": {
        "id": "6pQzSbM5_M4J"
      },
      "execution_count": 2,
      "outputs": []
    },
    {
      "cell_type": "code",
      "source": [
        "file = '/content/drive/MyDrive/literacy_rates.csv'\n",
        "df = pd.read_csv(file)\n",
        "df"
      ],
      "metadata": {
        "id": "8YPgTozL_QRN"
      },
      "execution_count": null,
      "outputs": []
    },
    {
      "cell_type": "code",
      "source": [
        "#Identificar y abordar cualquier valor duplicado\n",
        "\n",
        "## Identificar valores duplicados\n",
        "duplicates = df.duplicated(keep=False)\n",
        "\n",
        "# Aplicación de filtro sobre el DataFrame\n",
        "duplicate_rows = df[duplicates]\n",
        "\n",
        "# Eliminación de registros duplicados\n",
        "## Mediante el método 'drop_duplicates()' y el parámetro 'subset' para especificar las columnas\n",
        "## en las que se deben buscar duplicados\n",
        "df_no_duplicates = df.drop_duplicates(subset=['Region', 'Country', 'Year', 'Age', 'Gender', 'Literacy rate'])\n",
        "\n",
        "# Dado que el método 'drop_duplicates()' se utiliza para eliminar filas duplicadas, como no se\n",
        "# especifica el parámetro 'subset', el método considera todas las columnas del DataFrame al\n",
        "# determinar si una fila es duplicada o no\n",
        "df_unique = df.drop_duplicates()\n",
        "df_unique\n"
      ],
      "metadata": {
        "id": "qTPaEL6CAslV"
      },
      "execution_count": null,
      "outputs": []
    },
    {
      "cell_type": "code",
      "source": [
        "#Identificar y abordar cualquier dato que falte en este conjunto de datos. Tratarlos de forma adecuada.\n",
        "#Incluir una breve descripción en el método con el que se tratan los valores que faltan junto con una justificación para el uso de ese método.\n",
        "\n",
        "# Identificar datos faltantes mediante el método 'isna()' de pandas, devolviendo una 'máscara booleana'\n",
        "# que indica las celdas con valores faltantes(True) y las celdas con valores existentes(False):missing_values = df.isna()\n",
        "missing_values = df.isna()\n",
        "\n",
        "# Para observar los registros con datos faltantes, se filtra el DataFrame utilizando:\n",
        "missing_rows = df[missing_values]\n",
        "\n",
        "# Ya que se han identificado los datos faltantes, se puede abordar de diferentes maneras sgún el contexto\n",
        "# y la naturaleza de los datos.\n",
        "## Eliminar las filtas o columnas con datos faltantes: mediante el método 'dropna()' de pandas,\n",
        "## para eliminar las filas o columnas que contienen datos faltantes, se puede especificar el\n",
        "## parámetro 'axis' para indicar si se eliminaran filas: '(axis=0)' o columnas: '(axis=1)'.\n",
        "\n",
        "### Eliminar filas con datos faltantes\n",
        "df_no_missing_rows = df.dropna(axis=0)\n",
        "# print(df_no_missing_rows)\n",
        "\n",
        "### Eliminar columnas con datos faltantes\n",
        "df_no_missing_columns = df.dropna(axis=1)\n",
        "# print(df_no_missing_columns)\n",
        "\n",
        "## Rellenar los datos faltantes con un valor específico: Mediante el método 'fillna()' de pandas\n",
        "## para reemplzar los datos faltantes con un valor específico: como el promedio, la mediana\n",
        "## o un valor constante. Se puede usar el parámetro 'value', para especificar dicho valor.\n",
        "\n",
        "# Rellenar los datos faltantes con el promedio de la columna\n",
        "df_filled_mean = df.fillna(df.mean())\n",
        "print(df_filled_mean)\n",
        "\n",
        "# Rellenar los datos faltantes con la mediana de la columna\n",
        "df_filled_median = df.fillna(df.median())\n",
        "print(df_filled_median)\n",
        "\n",
        "# Rellenar los datos faltantes con un valor constante (por ejemplo, 0)\n",
        "df_filled_constant = df.fillna(0)\n",
        "print(df_filled_constant)\n",
        "\n",
        "#Asegurarse de que todas las columnas coincidan con los tipos de datos enumerados en el diccionario de datos."
      ],
      "metadata": {
        "id": "8XluGm5HCD84"
      },
      "execution_count": null,
      "outputs": []
    },
    {
      "cell_type": "code",
      "source": [
        "## Asegurarse de que todas las columnas coincidan con los tipos de datos enumerados en el diccionario de datos:\n",
        "\n",
        "# Utilizamos el método astype() para convertir cada columna al tipo de datos especificado:\n",
        "\n",
        "# La columna \"Region\" se convierte a tipo object (cadena de caracteres).\n",
        "# La columna \"Country\" se convierte a tipo object.\n",
        "# La columna \"Year\" se convierte a tipo int.\n",
        "# La columna \"Age\" se convierte a tipo object.\n",
        "# La columna \"Gender\" se convierte a tipo object.\n",
        "# La columna \"Literacy rate\" se convierte a tipo float.\n",
        "# Al verificar los tipos de datos de las columnas después de la conversión utilizando df.dtypes,\n",
        "# podemos confirmar que todas las columnas coinciden con los\n",
        "# tipos de datos especificados en el diccionario de datos.\n",
        "# Esto asegura que los datos se estén tratando de manera adecuada y nos permite realizar\n",
        "# análisis y operaciones posteriores con confianza en la consistencia de los tipos de datos.\n",
        "\n",
        "# Convertir las columnas al tipo de datos adecuado\n",
        "df['Region'] = df['Region'].astype('object')\n",
        "df['Country'] = df['Country'].astype('object')\n",
        "df['Year'] = df['Year'].astype('int')\n",
        "df['Age'] = df['Age'].astype('object')\n",
        "df['Gender'] = df['Gender'].astype('object')\n",
        "df['Literacy rate'] = df['Literacy rate'].astype('float')\n",
        "\n",
        "# Verificar los tipos de datos de las columnas después de la conversión\n",
        "print(df.dtypes)\n",
        "\n"
      ],
      "metadata": {
        "id": "fsKkSG9OJTCI"
      },
      "execution_count": null,
      "outputs": []
    },
    {
      "cell_type": "code",
      "source": [
        "#Identificar y abordar cualquier inconsistencias en los valores categóricos (ejemplo: cat, Cat, cats).\n",
        "\n",
        "## Antes\n",
        "print(df.head())\n",
        "\n",
        "# Se utiliza el método str.lower() para convertir todos los valores categóricos a\n",
        "# minúsculas en las columnas correspondientes.\n",
        "\n",
        "# La razón, es asegurarse de que los valores categóricos\n",
        "# sean consistentes y evitar posibles discrepancias causadas por diferencias en las\n",
        "# mayúsculas o minúsculas en los datos. Al convertir todos los valores a minúsculas,\n",
        "# se garantiza que se puedan comparar y manipular de manera más precisa y consistente.x\n",
        "\n",
        "# Convertir los valores categóricos a minúsculas\n",
        "df['Region'] = df['Region'].str.lower()\n",
        "df['Country'] = df['Country'].str.lower()\n",
        "df['Age'] = df['Age'].str.lower()\n",
        "df['Gender'] = df['Gender'].str.lower()\n",
        "\n",
        "## Después\n",
        "print(df.head())\n"
      ],
      "metadata": {
        "id": "ZpXJW_icKinS"
      },
      "execution_count": null,
      "outputs": []
    },
    {
      "cell_type": "code",
      "source": [
        "#Identificar y abordar cualquier punto de datos inapropiados o inusuales (ejemplo: la edad no puede ser 325).\n",
        "\n",
        "# Identificar valores únicos o distintos en cada columna para detectar\n",
        "# posibles valores inapropiados o inusuales.\n",
        "unique_values = df.nunique()\n",
        "print(\"Valores únicos por columna:\")\n",
        "print(unique_values)\n",
        "\n",
        "# Verificar los rangos esperados para las columnas numéricas (por ejemplo, Year)\n",
        "# y realizar un filtrado para eliminar valores fuera de rango.\n",
        "year_range = (1900, 2023)  # Ejemplo: Asumiendo que los años válidos deben estar entre 1900 y 2023\n",
        "df = df[(df['Year'] >= year_range[0]) & (df['Year'] <= year_range[1])]\n",
        "\n",
        "# Aplicar filtros basados en reglas específicas para las columnas que\n",
        "# presenten restricciones o criterios definidos (por ejemplo, la columna Age\n",
        "# no puede ser mayor a cierto valor).\n",
        "\n",
        "# Convertir la columna 'Age' al tipo de datos numérico\n",
        "df['Age'] = pd.to_numeric(df['Age'], errors='coerce')\n",
        "max_age = 120  # Ejemplo: Asumiendo que la edad máxima permitida es 120 años\n",
        "df = df[df['Age'] <= max_age]\n",
        "\n",
        "# Reemplazar o eliminar los valores inapropiados o inusuales, según corresponda.\n",
        "# Por ejemplo, si se identifica un valor inapropiado en la columna \"Age\" como 325:\n",
        "df.loc[df['Age'] == 325, 'Age'] = np.nan  # Reemplazar con NaN o eliminar la fila completa\n",
        "\n",
        "# Verificar el DataFrame después de aplicar los cambios\n",
        "print(df.head())\n"
      ],
      "metadata": {
        "id": "uJPSIsumJY3-"
      },
      "execution_count": null,
      "outputs": []
    },
    {
      "cell_type": "code",
      "source": [
        "# El siguiente paso es completar una exploración de los datos usando Python. Esto debe incluir:\n",
        "  ## Dos tipos diferentes de visualizaciones de exploratorias univariantes.\n",
        "  ## Cada visualización debe incluir una breve interpretación dentro del archivo del código.\n",
        "\n",
        "  ## Dos tipos diferentes de visualizaciones de exploratorias multivariantes.\n",
        "  ## Cada visualización debe incluir una breve interpretación dentro del archivo del código."
      ],
      "metadata": {
        "id": "mXkmX0WnNsbJ"
      },
      "execution_count": 47,
      "outputs": []
    },
    {
      "cell_type": "code",
      "source": [
        "import matplotlib.pyplot as plt"
      ],
      "metadata": {
        "id": "rXKrBxSjOTpG"
      },
      "execution_count": 49,
      "outputs": []
    },
    {
      "cell_type": "markdown",
      "source": [
        "# Visualización exploratorias univariantes"
      ],
      "metadata": {
        "id": "l5Dq1w8FOW7u"
      }
    },
    {
      "cell_type": "code",
      "source": [
        "# Histograma de la columna \"Literacy rate\"\n",
        "plt.hist(df['Literacy rate'], bins=10)\n",
        "plt.xlabel('Literacy rate')\n",
        "plt.ylabel('Frequency')\n",
        "plt.title('Distribution of Literacy Rate')\n",
        "plt.show()\n",
        "\n",
        "# Interpretación: Esta visualización muestra la distribución de la tasa de alfabetización\n",
        "# en el conjunto de datos. Podemos observar la frecuencia de diferentes rangos de\n",
        "# tasas de alfabetización."
      ],
      "metadata": {
        "id": "Peep6-yHOUlZ"
      },
      "execution_count": null,
      "outputs": []
    },
    {
      "cell_type": "markdown",
      "source": [
        "# Gráfico de barras de la columna \"Region\""
      ],
      "metadata": {
        "id": "gsAKA9yHPQUT"
      }
    },
    {
      "cell_type": "code",
      "source": [
        "# Gráfico de barras de la columna \"Region\"\n",
        "df['Region'].value_counts().plot(kind='bar')\n",
        "plt.xlabel('Region')\n",
        "plt.ylabel('Count')\n",
        "plt.title('Distribution of Regions')\n",
        "plt.show()\n",
        "\n",
        "# Interpretación: Esta visualización muestra la distribución de las regiones\n",
        "# en el conjunto de datos. Podemos observar la cantidad de países en cada región."
      ],
      "metadata": {
        "id": "wvcNA7Y0PT8j"
      },
      "execution_count": null,
      "outputs": []
    },
    {
      "cell_type": "markdown",
      "source": [
        "# Visualizaciones exploratorias multivariantes\n",
        "## Gráfico de dispersión entre \"Year\" y \"Literacy rate\""
      ],
      "metadata": {
        "id": "8GA1PALJPcr4"
      }
    },
    {
      "cell_type": "code",
      "source": [
        "import seaborn as sns\n",
        "\n",
        "df['Literacy rate'] = df['Literacy rate'].astype(str).str.rstrip('%').astype(float)\n",
        "\n",
        "sns.boxplot(x='Region', y='Literacy rate', data=df)\n",
        "plt.xlabel('Region')\n",
        "plt.ylabel('Literacy rate')\n",
        "plt.title('Distribution of Literacy Rate by Region')\n",
        "plt.xticks(rotation=45)\n",
        "plt.show()\n",
        "\n",
        "\n",
        "# Interpretación: Esta visualización muestra la relación entre el año y la\n",
        "# tasa de alfabetización. Podemos observar si hay alguna tendencia o patrón a lo largo del tiempo."
      ],
      "metadata": {
        "id": "ZKnrAcuNPiTu"
      },
      "execution_count": null,
      "outputs": []
    },
    {
      "cell_type": "code",
      "source": [
        "# Gráfico de dispersión entre \"Year\" y \"Literacy rate\"\n",
        "plt.scatter(df['Year'], df['Literacy rate'])\n",
        "plt.xlabel('Year')\n",
        "plt.ylabel('Literacy rate')\n",
        "plt.title('Relationship between Year and Literacy Rate')\n",
        "plt.show()\n",
        "\n",
        "# Interpretación: Esta visualización muestra la relación entre el año\n",
        "# y la tasa de alfabetización. Podemos observar si hay alguna tendencia o patrón a lo largo del tiempo."
      ],
      "metadata": {
        "id": "0hQhChxgaDK7"
      },
      "execution_count": null,
      "outputs": []
    }
  ]
}