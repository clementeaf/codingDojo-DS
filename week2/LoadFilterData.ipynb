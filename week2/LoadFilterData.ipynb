{
  "nbformat": 4,
  "nbformat_minor": 0,
  "metadata": {
    "colab": {
      "provenance": [],
      "authorship_tag": "ABX9TyPqLxKQX2up4TLF7YPy265P",
      "include_colab_link": true
    },
    "kernelspec": {
      "name": "python3",
      "display_name": "Python 3"
    },
    "language_info": {
      "name": "python"
    }
  },
  "cells": [
    {
      "cell_type": "markdown",
      "metadata": {
        "id": "view-in-github",
        "colab_type": "text"
      },
      "source": [
        "<a href=\"https://colab.research.google.com/github/clementeaf/codingDojo-DS/blob/main/week2/LoadFilterData.ipynb\" target=\"_parent\"><img src=\"https://colab.research.google.com/assets/colab-badge.svg\" alt=\"Open In Colab\"/></a>"
      ]
    },
    {
      "cell_type": "code",
      "execution_count": 1,
      "metadata": {
        "id": "lhCDsRxIXUg3",
        "colab": {
          "base_uri": "https://localhost:8080/"
        },
        "outputId": "9cc3ed36-7878-4924-b9af-cc4df4bf5b10"
      },
      "outputs": [
        {
          "output_type": "stream",
          "name": "stdout",
          "text": [
            "Mounted at /content/drive\n"
          ]
        }
      ],
      "source": [
        "from google.colab import drive\n",
        "drive.mount('/content/drive')\n",
        "\n",
        "import pandas as pd"
      ]
    },
    {
      "cell_type": "code",
      "source": [
        "bike_df = '/content/drive/MyDrive/RailsToTrails_National Count Data_week.xlsx'\n",
        "df = pd.read_excel(bike_df)"
      ],
      "metadata": {
        "id": "dgqsq9xeXzfL"
      },
      "execution_count": 2,
      "outputs": []
    },
    {
      "cell_type": "code",
      "source": [
        "date_filter = df['Week of'] > \"2020-07-31\"\n",
        "change_filter = df['Change 2019-2020'] > 1\n",
        "bikes_date_filter = df.loc[date_filter]\n",
        "bikes_change_filter = df.loc[change_filter]\n",
        "bikes_filtered = bikes_date_filter.loc[change_filter]\n",
        "\n",
        "# 3 -> Si generamos un cruce de filtros entre filtro por fecha y cambios, obtenemos 0 resultados"
      ],
      "metadata": {
        "id": "1wr_NwhQX_Nn"
      },
      "execution_count": 11,
      "outputs": []
    }
  ]
}