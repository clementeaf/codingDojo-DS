{
  "nbformat": 4,
  "nbformat_minor": 0,
  "metadata": {
    "colab": {
      "provenance": [],
      "authorship_tag": "ABX9TyO6zkeqDCT9HtvLd2gdWiry",
      "include_colab_link": true
    },
    "kernelspec": {
      "name": "python3",
      "display_name": "Python 3"
    },
    "language_info": {
      "name": "python"
    }
  },
  "cells": [
    {
      "cell_type": "markdown",
      "metadata": {
        "id": "view-in-github",
        "colab_type": "text"
      },
      "source": [
        "<a href=\"https://colab.research.google.com/github/clementeaf/codingDojo-DS/blob/main/week2/Ejercicio_Titanic.ipynb\" target=\"_parent\"><img src=\"https://colab.research.google.com/assets/colab-badge.svg\" alt=\"Open In Colab\"/></a>"
      ]
    },
    {
      "cell_type": "code",
      "execution_count": 1,
      "metadata": {
        "id": "YVY-AzIJpu9k",
        "colab": {
          "base_uri": "https://localhost:8080/"
        },
        "outputId": "0fc7ba9c-dac6-4193-c4ba-2ab0790eddc0"
      },
      "outputs": [
        {
          "output_type": "stream",
          "name": "stdout",
          "text": [
            "Mounted at /content/drive\n"
          ]
        }
      ],
      "source": [
        "from google.colab import drive\n",
        "drive.mount('/content/drive')"
      ]
    },
    {
      "cell_type": "code",
      "source": [
        "import pandas as pd\n",
        "import numpy as np"
      ],
      "metadata": {
        "id": "dCrIdqqDqG35"
      },
      "execution_count": null,
      "outputs": []
    },
    {
      "cell_type": "code",
      "source": [
        "file= '/content/drive/MyDrive/titanic.csv'\n",
        "df= pd.read_csv(file)\n",
        "df"
      ],
      "metadata": {
        "id": "PecbWz7WUGTF"
      },
      "execution_count": null,
      "outputs": []
    },
    {
      "cell_type": "code",
      "source": [
        "# Mostrar el centro del marco de datos.\n",
        "centro = df.mean()\n",
        "centro"
      ],
      "metadata": {
        "id": "ed0kiKApT2M_"
      },
      "execution_count": null,
      "outputs": []
    },
    {
      "cell_type": "code",
      "source": [
        "# ¿Cuál es el porcentaje de las personas que sobrevivió? (Pista: encontrar la media de la columna de supervivencia)\n",
        "porcentaje_sobrevivientes = df['Survived'].mean() * 100\n",
        "print(f\"El porcentaje de personas que sobrevivó es: {porcentaje_sobrevivientes}\")"
      ],
      "metadata": {
        "id": "GzQvantEUvMO"
      },
      "execution_count": null,
      "outputs": []
    },
    {
      "cell_type": "code",
      "source": [
        "# ¿Cuántos de cada sexo sobrevivieron?\n",
        "df_sex_survived = df[[\"Sex\", \"Survived\"]]\n",
        "\n",
        "count_male_survived = df_sex_survived[df_sex_survived[\"Sex\"] == \"male\"][\"Survived\"].sum()\n",
        "count_female_survived = df_sex_survived[df_sex_survived[\"Sex\"] == \"female\"][\"Survived\"].sum()\n",
        "\n",
        "print(\"Número de hombres que sobrevivieron:\", count_male_survived)\n",
        "print(\"Número de mujeres que sobrevivieron:\", count_female_survived)"
      ],
      "metadata": {
        "id": "RZ2vs_FpYS1k"
      },
      "execution_count": null,
      "outputs": []
    },
    {
      "cell_type": "code",
      "source": [
        "# Si consideran solo el grupo de pasajeros que pagó menos de $10, ¿cuál sería el porcentaje de este grupo que sobrevivió?\n",
        "# Contar el número de pasajeros que pagaron menos de $10\n",
        "count_cheap_fare = len(df[df[\"Fare\"] < 10])\n",
        "\n",
        "# Contar el número de pasajeros que pagaron menos de $10 y sobrevivieron\n",
        "count_cheap_fare_survived = len(df[df[\"Fare\"] < 10][df[\"Survived\"] == 1])\n",
        "\n",
        "# Calcular el porcentaje de pasajeros que pagaron menos de $10 que sobrevivieron\n",
        "percentage_cheap_fare_survived = count_cheap_fare_survived / count_cheap_fare\n",
        "\n",
        "# Redondear el resultado a un decimal\n",
        "percentage_cheap_fare_survived = round(percentage_cheap_fare_survived, 1)\n",
        "\n",
        "print(\"Porcentaje de pasajeros que pagaron menos de $10 que sobrevivieron:\", f\"{percentage_cheap_fare_survived}%\")"
      ],
      "metadata": {
        "id": "WFG7rCcLaWPE"
      },
      "execution_count": null,
      "outputs": []
    },
    {
      "cell_type": "code",
      "source": [
        "#En total, ¿cuál es la edad promedio de los que no sobrevivieron?\n",
        "# Contar el número de pasajeros que no sobrevivieron\n",
        "count_not_survived = len(df[df[\"Survived\"] == 0])\n",
        "\n",
        "# Obtener las edades de los pasajeros que no sobrevivieron\n",
        "ages_not_survived = df[df[\"Survived\"] == 0][\"Age\"].dropna()\n",
        "\n",
        "# Calcular la edad promedio de los pasajeros que no sobrevivieron\n",
        "average_age_not_survived = int(ages_not_survived.mean())\n",
        "\n",
        "print(\"Edad promedio de los pasajeros que no sobrevivieron:\", average_age_not_survived)"
      ],
      "metadata": {
        "id": "ml_meBt4cToY"
      },
      "execution_count": null,
      "outputs": []
    },
    {
      "cell_type": "code",
      "source": [
        "#En total, ¿cuál es la edad promedio de los que sobrevivieron?\n",
        "# Contar el número de pasajeros que sobrevivieron\n",
        "count_survived = len(df[df[\"Survived\"] == 1])\n",
        "\n",
        "# Contar el número de pasajeros que sobrevivieron\n",
        "count_survived = len(df[df[\"Survived\"] == 1])\n",
        "\n",
        "# Obtener las edades de los pasajeros que sobrevivieron\n",
        "ages_survived = df[df[\"Survived\"] == 1][\"Age\"].dropna()\n",
        "\n",
        "# Calcular la edad promedio de los pasajeros que sobrevivieron\n",
        "average_age_survived = int(ages_survived.mean())\n",
        "\n",
        "print(\"Edad promedio de los pasajeros que sobrevivieron:\", average_age_survived)\n"
      ],
      "metadata": {
        "id": "K8UY0eBnc6NM"
      },
      "execution_count": null,
      "outputs": []
    },
    {
      "cell_type": "code",
      "source": [
        "#¿Cuál es el promedio de edad de los que sobrevivieron y los que no sobrevivieron agrupado por sexo?\n",
        "# Agrupar los datos por sexo y estado de supervivencia\n",
        "df_grouped = df.groupby([\"Sex\", \"Survived\"])\n",
        "\n",
        "# Obtener la edad promedio de cada grupo\n",
        "average_age_by_sex_and_survived = df_grouped[\"Age\"].mean()\n",
        "\n",
        "# Redondear el resultado a un dígito decimal\n",
        "average_age_by_sex_and_survived = round(average_age_by_sex_and_survived, 1)\n",
        "\n",
        "print(\"Promedio de edad de los que sobrevivieron, agrupado por sexo:\")\n",
        "print(average_age_by_sex_and_survived)"
      ],
      "metadata": {
        "id": "Zxz7A5tzdxyT"
      },
      "execution_count": null,
      "outputs": []
    }
  ]
}