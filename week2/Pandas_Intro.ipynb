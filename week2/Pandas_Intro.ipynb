{
  "nbformat": 4,
  "nbformat_minor": 0,
  "metadata": {
    "colab": {
      "provenance": [],
      "mount_file_id": "1rmmhBOEm7yx5EZrwOwPB1LnDWYCNl1nM",
      "authorship_tag": "ABX9TyMEmnYBH52zLUxtoaC8zDur",
      "include_colab_link": true
    },
    "kernelspec": {
      "name": "python3",
      "display_name": "Python 3"
    },
    "language_info": {
      "name": "python"
    }
  },
  "cells": [
    {
      "cell_type": "markdown",
      "metadata": {
        "id": "view-in-github",
        "colab_type": "text"
      },
      "source": [
        "<a href=\"https://colab.research.google.com/github/clementeaf/codingDojo-DS/blob/main/week2/Pandas_Intro.ipynb\" target=\"_parent\"><img src=\"https://colab.research.google.com/assets/colab-badge.svg\" alt=\"Open In Colab\"/></a>"
      ]
    },
    {
      "cell_type": "markdown",
      "source": [
        "#Introducción a la biblioteca de Pandas y carga de datos\n",
        "\n",
        "### puede conectarse a casi cualquier fuente de datos"
      ],
      "metadata": {
        "id": "nfPQbMhiRkhr"
      }
    },
    {
      "cell_type": "code",
      "source": [
        "import pandas as pd\n",
        "from google.colab import drive\n",
        "drive.mount('/content/drive')"
      ],
      "metadata": {
        "id": "Q-pk0VIeRrCJ",
        "colab": {
          "base_uri": "https://localhost:8080/"
        },
        "outputId": "491724cd-94a8-4ec6-f516-dd0355773213"
      },
      "execution_count": null,
      "outputs": [
        {
          "output_type": "stream",
          "name": "stdout",
          "text": [
            "Drive already mounted at /content/drive; to attempt to forcibly remount, call drive.mount(\"/content/drive\", force_remount=True).\n"
          ]
        }
      ]
    },
    {
      "cell_type": "code",
      "source": [
        "filename = '/content/drive/MyDrive/bostonHousing1978.csv'\n",
        "df = pd.read_csv(filename)\n",
        "# df-head() # To see the first rows (5 by default)\n",
        "# df.tail() # To see the last rows (5 by default)\n",
        "# df.dtypes # Type of data of each column\n",
        "# df.shape # number of rows and columns (first, rows)\n",
        "# df.info() # Column dataTypes and number of non-null values\n",
        "\n",
        "# Cuts\n",
        "\n",
        "## Select columns using brackets\n",
        "# df[['RM']].head() # this operation will bring the first results of the 'RM' column (5 by default)\n",
        "# df[['RM', 'target']].head() # Select multiple columns using double brackets\n",
        "# df[['RM', 'LSTAT', 'PTRATIO', 'target']].tail() # Panda DataFrame\n",
        "\n",
        "## Select one column using single brackets\n",
        "## this produces a pandas series wich is a one-dimensional array of indexed data\n",
        "# df['RM'].head()\n",
        "\n",
        "## This is a pandas series\n",
        "# type(df['RM'].head())\n",
        "\n",
        "## to select multiple columns, is mandatory to use double brackets\n",
        "# df['RM']\n",
        "# df['RM'][0:10] #to get from the row 0 to the 9\n",
        "# df.RM.head()\n",
        "\n",
        "## Select columns usin 'loc'\n",
        "\n",
        "# df.loc[:, ['RM']].head()\n",
        "# df.loc[:, 'RM'].head()\n"
      ],
      "metadata": {
        "id": "B6PC2XhDR5nb"
      },
      "execution_count": null,
      "outputs": []
    }
  ]
}