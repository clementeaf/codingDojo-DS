{
  "nbformat": 4,
  "nbformat_minor": 0,
  "metadata": {
    "colab": {
      "provenance": [],
      "authorship_tag": "ABX9TyMFPDfquS1qWafhgvj7JW/B",
      "include_colab_link": true
    },
    "kernelspec": {
      "name": "python3",
      "display_name": "Python 3"
    },
    "language_info": {
      "name": "python"
    }
  },
  "cells": [
    {
      "cell_type": "markdown",
      "metadata": {
        "id": "view-in-github",
        "colab_type": "text"
      },
      "source": [
        "<a href=\"https://colab.research.google.com/github/clementeaf/codingDojo-DS/blob/main/week2/Proyecto_prediccion_ventas-Parte2.ipynb\" target=\"_parent\"><img src=\"https://colab.research.google.com/assets/colab-badge.svg\" alt=\"Open In Colab\"/></a>"
      ]
    },
    {
      "cell_type": "code",
      "execution_count": null,
      "metadata": {
        "id": "A_X-vHwogxIl"
      },
      "outputs": [],
      "source": [
        "from google.colab import drive\n",
        "drive.mount('/content/drive')"
      ]
    },
    {
      "cell_type": "code",
      "source": [
        "import pandas as pd\n",
        "import numpy as np"
      ],
      "metadata": {
        "id": "ms8DOr0xhJpt"
      },
      "execution_count": 2,
      "outputs": []
    },
    {
      "cell_type": "code",
      "source": [
        "file = '/content/drive/MyDrive/sales_predictions_2023.csv'\n",
        "df = pd.read_csv(file)\n",
        "df"
      ],
      "metadata": {
        "id": "0bnJII2ZhMOf"
      },
      "execution_count": null,
      "outputs": []
    },
    {
      "cell_type": "code",
      "source": [
        "#¿Cuántas filas y columnas?\n",
        "# Obtener el número de filas y columnas\n",
        "number_of_rows = len(df)\n",
        "number_of_columns = df.shape[1]\n",
        "\n",
        "# Imprimir los resultados\n",
        "print(\"Número de filas:\", number_of_rows)\n",
        "print(\"Número de columnas:\", number_of_columns)"
      ],
      "metadata": {
        "id": "f3BlRewJliLi"
      },
      "execution_count": null,
      "outputs": []
    },
    {
      "cell_type": "code",
      "source": [
        "#¿Cuáles son los tipos de datos en cada variable?\n",
        "# Obtener los tipos de datos de cada variable\n",
        "data_types = df.dtypes\n",
        "\n",
        "# Imprimir los resultados\n",
        "print(\"Tipos de datos en cada variable:\")\n",
        "print(data_types)"
      ],
      "metadata": {
        "id": "uCovEa6amWGk"
      },
      "execution_count": null,
      "outputs": []
    },
    {
      "cell_type": "code",
      "source": [
        "#¿Hay duplicados? Si es el caso, eliminen algunos duplicados\n",
        "# Verificar si hay duplicados\n",
        "duplicates = df.duplicated()\n",
        "\n",
        "# Imprimir el número de duplicados\n",
        "number_of_duplicates = duplicates.sum()\n",
        "\n",
        "# Eliminar los duplicados\n",
        "df = df.drop_duplicates()\n",
        "\n",
        "# Imprimir el número de filas después de eliminar los duplicados\n",
        "number_of_rows_after_drop = len(df)\n",
        "\n",
        "# Imprimir los resultados\n",
        "print(\"Número de duplicados:\", number_of_duplicates)\n",
        "print(\"Número de filas después de eliminar los duplicados:\", number_of_rows_after_drop)"
      ],
      "metadata": {
        "id": "tg1NAOiGmntH"
      },
      "execution_count": null,
      "outputs": []
    },
    {
      "cell_type": "code",
      "source": [
        "#Identificar los valores faltantes.\n",
        "# Contar los valores faltantes por columna\n",
        "missing_values_count = df.isnull().sum()\n",
        "\n",
        "print(missing_values_count)"
      ],
      "metadata": {
        "id": "UzkEjAxFty2a"
      },
      "execution_count": null,
      "outputs": []
    },
    {
      "cell_type": "code",
      "source": [
        "#cómo abordar los valores faltantes y cómo hacerlo\n",
        "## Teniendo en consideración las prácticas más óptimas al momento de generar una limpieza de datos\n",
        "## pertinente a la labor de la ciencia de datos, se identifican las siguientes prácticas:\n",
        "\n",
        "# Eliminar los valores faltantes: Simple, pero puede generar la perdida de información importante\n",
        "  # Ejemplo: si hay 10 valores faltantes en Item_Weight, se puede eliminar las 10 filas que contienen estos valores\n",
        "\n",
        "# Rellenar los valores faltantes con valores nulos: Puede ser útil si la información faltante\n",
        "# es poca y no se espere que esta tenga un impacto significativo en el análisis\n",
        "\n",
        "# Rellenar los valores faltantes con valores estimados: Se puede hacer mediante el uso d: media, mediana o moda"
      ],
      "metadata": {
        "id": "Q_dexpskudmb"
      },
      "execution_count": 14,
      "outputs": []
    },
    {
      "cell_type": "code",
      "source": [
        "#Confirmar que no hay valores faltantes después de abordarlos.\n",
        "# Eliminar los valores faltantes\n",
        "df = df.dropna()\n",
        "\n",
        "# Verificar si hay valores faltantes\n",
        "missing_values = df.isnull()\n",
        "\n",
        "# Imprimir el resultado\n",
        "print(missing_values.sum())"
      ],
      "metadata": {
        "id": "2ImvYxRxvm_x"
      },
      "execution_count": null,
      "outputs": []
    },
    {
      "cell_type": "code",
      "source": [
        "#Encuentren y arreglen alguna categoría inconsistente de datos (example: fix cat, Cat, and cats so that they are consistent)\n",
        "# Encontrar las categorías inconsistentes\n",
        "inconsistent_categories = []\n",
        "for category in df[\"Item_Type\"]:\n",
        "  if category != category.lower():\n",
        "    inconsistent_categories.append(category)\n",
        "\n",
        "# Arreglar las categorías inconsistentes\n",
        "for category in inconsistent_categories:\n",
        "  df[\"Item_Type\"].replace(category, category.lower(), inplace=True)\n",
        "\n",
        "# Imprimir las categorías inconsistentes arregladas\n",
        "print(inconsistent_categories)"
      ],
      "metadata": {
        "id": "JCNvWlxHwJ_R"
      },
      "execution_count": null,
      "outputs": []
    },
    {
      "cell_type": "code",
      "source": [
        "#Para cualquier columna numérica, obtengan las estadísticas resumidas para cada uno (mínimo, máximo y media)\n",
        "# Encontrar todas las columnas que sean numéricas\n",
        "numeric_columns = df.select_dtypes(include=[np.number])\n",
        "\n",
        "# Obtener las estadísticas resumidas para cada columna numérica\n",
        "column_summaries = []\n",
        "for column in numeric_columns:\n",
        "  column_summary = df[column].describe()\n",
        "  column_summaries.append(column_summary)\n",
        "\n",
        "# Imprimir un print() que refleje estos resultados de manera clara, precisa y detallada\n",
        "print(\"Estadísticas resumidas para las columnas numéricas:\")\n",
        "for column_summary in column_summaries:\n",
        "  print(column_summary.to_markdown())"
      ],
      "metadata": {
        "id": "0XQE5sA3w687"
      },
      "execution_count": null,
      "outputs": []
    }
  ]
}