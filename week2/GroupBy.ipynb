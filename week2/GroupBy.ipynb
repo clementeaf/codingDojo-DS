{
  "nbformat": 4,
  "nbformat_minor": 0,
  "metadata": {
    "colab": {
      "provenance": [],
      "authorship_tag": "ABX9TyP95GNg2FFCYf7dCmrouXgd",
      "include_colab_link": true
    },
    "kernelspec": {
      "name": "python3",
      "display_name": "Python 3"
    },
    "language_info": {
      "name": "python"
    }
  },
  "cells": [
    {
      "cell_type": "markdown",
      "metadata": {
        "id": "view-in-github",
        "colab_type": "text"
      },
      "source": [
        "<a href=\"https://colab.research.google.com/github/clementeaf/codingDojo-DS/blob/main/week2/GroupBy.ipynb\" target=\"_parent\"><img src=\"https://colab.research.google.com/assets/colab-badge.svg\" alt=\"Open In Colab\"/></a>"
      ]
    },
    {
      "cell_type": "code",
      "execution_count": null,
      "metadata": {
        "id": "Ksik8C15SUeI"
      },
      "outputs": [],
      "source": [
        "from google.colab import drive\n",
        "drive.mount('/content/drive')"
      ]
    },
    {
      "cell_type": "code",
      "source": [
        "import pandas as pd"
      ],
      "metadata": {
        "id": "cdlYZRGNSedT"
      },
      "execution_count": 2,
      "outputs": []
    },
    {
      "cell_type": "code",
      "source": [
        "filename = '/content/drive/MyDrive/passenger_modified.csv'\n",
        "df = pd.read_csv(filename)\n",
        "df.head()"
      ],
      "metadata": {
        "id": "04egN8EVSgN2"
      },
      "execution_count": null,
      "outputs": []
    },
    {
      "cell_type": "code",
      "source": [
        "# obtain essential information about the data\n",
        "df.info()"
      ],
      "metadata": {
        "id": "pNPpOprYStKp"
      },
      "execution_count": null,
      "outputs": []
    },
    {
      "cell_type": "code",
      "source": [
        "# find summary stats for each numerical column and round to two decimal places\n",
        "df.describe().round(2)"
      ],
      "metadata": {
        "id": "26sAnodoSx4U"
      },
      "execution_count": null,
      "outputs": []
    },
    {
      "cell_type": "markdown",
      "source": [
        "## Usar GroupBy con una columna"
      ],
      "metadata": {
        "id": "RBdrrz4hS-Ad"
      }
    },
    {
      "cell_type": "code",
      "source": [
        "# find the mean rating for seat comfort across all passengers\n",
        "df['Seat comfort'].mean()"
      ],
      "metadata": {
        "id": "ijuZLqMhTCvy"
      },
      "execution_count": null,
      "outputs": []
    },
    {
      "cell_type": "code",
      "source": [
        "# find the mean rating for seat comfort when passengers are grouped by class\n",
        "df.groupby('Class')['Seat comfort'].mean()"
      ],
      "metadata": {
        "id": "j-kxBqlMTH8y"
      },
      "execution_count": null,
      "outputs": []
    },
    {
      "cell_type": "markdown",
      "source": [
        "## Usar GroupBy con múltiples columnas"
      ],
      "metadata": {
        "id": "RkXBKu7WTL0y"
      }
    },
    {
      "cell_type": "code",
      "source": [
        "# find the mean rating for seat comfort when grouped by both class and gender\n",
        "df.groupby(['Class', 'Gender'])['Seat comfort'].mean()"
      ],
      "metadata": {
        "colab": {
          "base_uri": "https://localhost:8080/"
        },
        "id": "aQIherVBTN-H",
        "outputId": "cedc98d2-cbc6-44e1-90b8-ea79a2c9e6fa"
      },
      "execution_count": 8,
      "outputs": [
        {
          "output_type": "execute_result",
          "data": {
            "text/plain": [
              "Class     Gender\n",
              "Business  Female    3.755691\n",
              "          Male      3.767463\n",
              "Eco       Female    3.217490\n",
              "          Male      3.057182\n",
              "Eco Plus  Female    3.249682\n",
              "          Male      3.110547\n",
              "Name: Seat comfort, dtype: float64"
            ]
          },
          "metadata": {},
          "execution_count": 8
        }
      ]
    }
  ]
}