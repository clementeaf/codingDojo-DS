{
  "nbformat": 4,
  "nbformat_minor": 0,
  "metadata": {
    "colab": {
      "provenance": [],
      "authorship_tag": "ABX9TyNWU4i/88EDBRKaSfRpvd8p",
      "include_colab_link": true
    },
    "kernelspec": {
      "name": "python3",
      "display_name": "Python 3"
    },
    "language_info": {
      "name": "python"
    }
  },
  "cells": [
    {
      "cell_type": "markdown",
      "metadata": {
        "id": "view-in-github",
        "colab_type": "text"
      },
      "source": [
        "<a href=\"https://colab.research.google.com/github/clementeaf/codingDojo-DS/blob/main/week2/Renombrar_Eliminar_DatosFaltantes.ipynb\" target=\"_parent\"><img src=\"https://colab.research.google.com/assets/colab-badge.svg\" alt=\"Open In Colab\"/></a>"
      ]
    },
    {
      "cell_type": "code",
      "execution_count": 1,
      "metadata": {
        "colab": {
          "base_uri": "https://localhost:8080/"
        },
        "id": "ZCo9dfmhfCWe",
        "outputId": "f0e009de-df4c-4caf-fb01-1f817c2f595b"
      },
      "outputs": [
        {
          "output_type": "stream",
          "name": "stdout",
          "text": [
            "Mounted at /content/drive\n"
          ]
        }
      ],
      "source": [
        "from google.colab import drive\n",
        "drive.mount('/content/drive')"
      ]
    },
    {
      "cell_type": "code",
      "source": [
        "import pandas as pd"
      ],
      "metadata": {
        "id": "bQhTn5eegHo9"
      },
      "execution_count": 2,
      "outputs": []
    },
    {
      "cell_type": "code",
      "source": [
        "filename = '/content/drive/MyDrive/bike_df.xlsx'\n",
        "df = pd.read_excel(filename)"
      ],
      "metadata": {
        "id": "6fiwBl1ygTpL"
      },
      "execution_count": 26,
      "outputs": []
    },
    {
      "cell_type": "code",
      "source": [
        "# Eliminar columnas innecesarias\n",
        "df_deleted_unnecesary_columns = df.drop(columns=['Unnamed: 7', 'Unnamed: 8', 'Unnamed: 9'])\n",
        "bikes = df_deleted_unnecesary_columns"
      ],
      "metadata": {
        "id": "SHLUhtEsiGdC"
      },
      "execution_count": 16,
      "outputs": []
    },
    {
      "cell_type": "code",
      "source": [
        "# Renombrar columna 'Unnamed: 6' a 'percent_change'\n",
        "bikes.rename(columns = {\n",
        "    'Unnamed: 6': 'percent_change'\n",
        "}, inplace = True)\n",
        "bikes"
      ],
      "metadata": {
        "id": "Erp0PfYwiQW9"
      },
      "execution_count": null,
      "outputs": []
    },
    {
      "cell_type": "code",
      "source": [
        "#¿Cuántos valores faltantes hay en el conjunto de datos? ¿En qué columnas están?\n",
        "missing_values = bikes.isnull().sum()\n",
        "missing_values"
      ],
      "metadata": {
        "id": "9b0YsXJVkWH1"
      },
      "execution_count": null,
      "outputs": []
    },
    {
      "cell_type": "code",
      "source": [
        "# Rellenar los valores faltantes en la columna 2021 Counts con 0.\n",
        "bikes['2021 Counts'] = bikes['2021 Counts'].fillna(0)\n",
        "bikes"
      ],
      "metadata": {
        "id": "f_kCh67OlnCu"
      },
      "execution_count": null,
      "outputs": []
    },
    {
      "cell_type": "code",
      "source": [
        "# Opcional: cambiar el nombre de la columna 'columna de recuentos 2019(31 contadores) a 'counts_2019''\n",
        "read_file = pd.read_excel(r'/content/drive/MyDrive/bike_df.xlsx')\n",
        "read_file.to_csv (r'/content/drive/MyDrive/bike_df.csv', index = None, header=True)\n",
        "bikes_csv = pd.read_csv('/content/drive/MyDrive/bike_df.csv')\n",
        "bikes_csv.columns = bikes_csv.columns.str.strip().str.lower().str.replace(' ', '_').str.replace('(', '').str.replace(')', '')\n",
        "bikes_csv.rename(columns = {\n",
        "    '2019_counts_31_counters': 'counts_2019',\n",
        "    '2020_counts_31_counters': 'counts_2020',\n",
        "}, inplace = True)\n",
        "bikes_csv"
      ],
      "metadata": {
        "id": "l_B_f5WCnkRm"
      },
      "execution_count": null,
      "outputs": []
    }
  ]
}