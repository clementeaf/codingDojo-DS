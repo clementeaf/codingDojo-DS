{
  "nbformat": 4,
  "nbformat_minor": 0,
  "metadata": {
    "colab": {
      "provenance": [],
      "authorship_tag": "ABX9TyPQTZOHBgXyf43LiDiMo/0w",
      "include_colab_link": true
    },
    "kernelspec": {
      "name": "python3",
      "display_name": "Python 3"
    },
    "language_info": {
      "name": "python"
    }
  },
  "cells": [
    {
      "cell_type": "markdown",
      "metadata": {
        "id": "view-in-github",
        "colab_type": "text"
      },
      "source": [
        "<a href=\"https://colab.research.google.com/github/clementeaf/codingDojo-DS/blob/main/week2/Ejercicios_GroupBy.ipynb\" target=\"_parent\"><img src=\"https://colab.research.google.com/assets/colab-badge.svg\" alt=\"Open In Colab\"/></a>"
      ]
    },
    {
      "cell_type": "code",
      "execution_count": 3,
      "metadata": {
        "id": "6rsgDh8LTesO",
        "colab": {
          "base_uri": "https://localhost:8080/"
        },
        "outputId": "a60da991-ea52-4d61-8db0-6c4b25a15c4b"
      },
      "outputs": [
        {
          "output_type": "stream",
          "name": "stdout",
          "text": [
            "Mounted at /content/drive\n"
          ]
        }
      ],
      "source": [
        "from google.colab import drive\n",
        "drive.mount('/content/drive')"
      ]
    },
    {
      "cell_type": "code",
      "source": [
        "import pandas as pd\n",
        "import numpy as np"
      ],
      "metadata": {
        "id": "cs3Qr85bUML6"
      },
      "execution_count": null,
      "outputs": []
    },
    {
      "cell_type": "code",
      "source": [
        "url = 'https://raw.githubusercontent.com/mGalarnyk/Tutorial_Data/master/Pandas/CalIt2.data'\n",
        "df = pd.read_csv(url, header = None)"
      ],
      "metadata": {
        "id": "CQE_cRDMUOBF"
      },
      "execution_count": null,
      "outputs": []
    },
    {
      "cell_type": "code",
      "source": [
        "# Renombrar Columnas\n",
        "## Renombrar columna 0 a “Flow_ID”\n",
        "## Renombrar columna 1 a “Date”\n",
        "## Renombrar columna 2 a “Time”\n",
        "## Renombrar columna 3 a “Count”\n",
        "df = df.rename(columns= {0: 'Flow_ID',\n",
        "                         1: 'Date',\n",
        "                         2: 'Time',\n",
        "                         3: 'Count'})\n",
        "df"
      ],
      "metadata": {
        "id": "0fV9WFHjU83c"
      },
      "execution_count": null,
      "outputs": []
    },
    {
      "cell_type": "code",
      "source": [
        "# Seleccionar datos\n",
        "## Seleccionar todos los datos para la fecha 24 de julio de 2005 con un flow id=7.\n",
        "## Con dos datos seleccionados en el paso 1, ordenen el resultado en Count en orden descendiente y saquen las 10 primeras filas. Asignen la salida a una variable llamada top 10.\n",
        "\n",
        "filter_by_date = df['Date'] == '07/24/05'\n",
        "filter_by_flow = df['Flow_ID'] == 7\n",
        "\n",
        "df = df.loc[filter_by_date & filter_by_flow]\n",
        "df"
      ],
      "metadata": {
        "id": "bGhKgel4VTJt"
      },
      "execution_count": null,
      "outputs": []
    },
    {
      "cell_type": "code",
      "source": [
        "# Aplicar función\n",
        "## Para las 10 filas que aparecen arriba, utilice la función Apply de Pandas para restar el valor más bajo de los 10 de todos ellos y luego obtengan el valor promedio de los recuentos resultantes\n",
        "\n",
        "# Obtener las primeras 10 filas\n",
        "df_10_filas = df.head(10)\n",
        "df_10_filas"
      ],
      "metadata": {
        "id": "zJcAHFeYXdtO"
      },
      "execution_count": null,
      "outputs": []
    },
    {
      "cell_type": "code",
      "source": [
        "# Agrupar\n",
        "## Seleccionar los datos en el mes de agosto 2005 con un flow id=7\n",
        "## Agrupar los datos en función de la fecha y obtener el recuento máximo por fecha\n",
        "agosto = (df['Date'] >= '08/01/05') & (df['Date'] <= '08/31/05')\n",
        "flow_id = df['Flow_ID'] == 7\n",
        "df = df.loc[agosto & flow_id]\n",
        "df"
      ],
      "metadata": {
        "id": "nlv6t6O4b-nO"
      },
      "execution_count": null,
      "outputs": []
    },
    {
      "cell_type": "code",
      "source": [
        "\n"
      ],
      "metadata": {
        "id": "R5LlaeY0naW2"
      },
      "execution_count": null,
      "outputs": []
    }
  ]
}