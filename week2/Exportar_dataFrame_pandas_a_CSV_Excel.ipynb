{
  "nbformat": 4,
  "nbformat_minor": 0,
  "metadata": {
    "colab": {
      "provenance": [],
      "authorship_tag": "ABX9TyNbd58+9z+Wg2Nl/cCppEgv",
      "include_colab_link": true
    },
    "kernelspec": {
      "name": "python3",
      "display_name": "Python 3"
    },
    "language_info": {
      "name": "python"
    }
  },
  "cells": [
    {
      "cell_type": "markdown",
      "metadata": {
        "id": "view-in-github",
        "colab_type": "text"
      },
      "source": [
        "<a href=\"https://colab.research.google.com/github/clementeaf/codingDojo-DS/blob/main/week2/Exportar_dataFrame_pandas_a_CSV_Excel.ipynb\" target=\"_parent\"><img src=\"https://colab.research.google.com/assets/colab-badge.svg\" alt=\"Open In Colab\"/></a>"
      ]
    },
    {
      "cell_type": "code",
      "execution_count": 4,
      "metadata": {
        "colab": {
          "base_uri": "https://localhost:8080/"
        },
        "id": "v7-QNktH2hWX",
        "outputId": "3e4b803b-2b5c-491a-b6ff-eeffcf8c27cd"
      },
      "outputs": [
        {
          "output_type": "stream",
          "name": "stdout",
          "text": [
            "Mounted at /content/drive\n"
          ]
        }
      ],
      "source": [
        "from google.colab import drive\n",
        "drive.mount('/content/drive')"
      ]
    },
    {
      "cell_type": "code",
      "source": [
        "import pandas as pd"
      ],
      "metadata": {
        "id": "8nROT7pm27_Z"
      },
      "execution_count": 2,
      "outputs": []
    },
    {
      "cell_type": "code",
      "source": [
        "filename = '/content/drive/My Drive/mortgages.csv'\n",
        "df = pd.read_csv(filename)"
      ],
      "metadata": {
        "id": "3kb_1Yrx3qN_"
      },
      "execution_count": 5,
      "outputs": []
    },
    {
      "cell_type": "code",
      "source": [
        "# Obtención datos de la tabla de pagos de la hipoteca a 30 años con el 3% de abril\n",
        "mortgage_filter = df['Mortgage Name']=='30 Year'\n",
        "interest_filter = df['Interest Rate']==0.03\n",
        "df = df.loc[mortgage_filter & interest_filter, :]"
      ],
      "metadata": {
        "id": "KSnilInU3x7g"
      },
      "execution_count": null,
      "outputs": []
    },
    {
      "cell_type": "code",
      "source": [
        "# Exportación dataframe de Pandas a archivos CSV\n",
        "df.to_csv(path_or_buf='oneMortgage.csv',index = False)"
      ],
      "metadata": {
        "id": "VodXpb4R4CEE"
      },
      "execution_count": 7,
      "outputs": []
    },
    {
      "cell_type": "code",
      "source": [
        "# Exportación de dataframe Pandas a Excel\n",
        "df.to_excel(excel_writer='oneMortgage.xlsx',index=False)"
      ],
      "metadata": {
        "id": "JDmg3VtFnZNq"
      },
      "execution_count": 8,
      "outputs": []
    }
  ]
}