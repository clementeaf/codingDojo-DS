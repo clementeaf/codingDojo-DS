{
  "nbformat": 4,
  "nbformat_minor": 0,
  "metadata": {
    "colab": {
      "provenance": [],
      "authorship_tag": "ABX9TyMQlDQzEBL44VszaFmqBxOw",
      "include_colab_link": true
    },
    "kernelspec": {
      "name": "python3",
      "display_name": "Python 3"
    },
    "language_info": {
      "name": "python"
    }
  },
  "cells": [
    {
      "cell_type": "markdown",
      "metadata": {
        "id": "view-in-github",
        "colab_type": "text"
      },
      "source": [
        "<a href=\"https://colab.research.google.com/github/clementeaf/codingDojo-DS/blob/main/week3/Ejercicio_altura_promedio.ipynb\" target=\"_parent\"><img src=\"https://colab.research.google.com/assets/colab-badge.svg\" alt=\"Open In Colab\"/></a>"
      ]
    },
    {
      "cell_type": "code",
      "execution_count": null,
      "metadata": {
        "colab": {
          "base_uri": "https://localhost:8080/"
        },
        "id": "W7dxxiKCajJI",
        "outputId": "62a7c1d5-4be4-498b-df3d-c65ca3dd79d0"
      },
      "outputs": [
        {
          "output_type": "stream",
          "name": "stdout",
          "text": [
            "Mounted at /content/drive\n"
          ]
        }
      ],
      "source": [
        "from google.colab import drive\n",
        "drive.mount('/content/drive')"
      ]
    },
    {
      "cell_type": "code",
      "source": [
        "import pandas as pd\n",
        "import numpy as np"
      ],
      "metadata": {
        "id": "scMV9CM3a3wx"
      },
      "execution_count": null,
      "outputs": []
    },
    {
      "cell_type": "code",
      "source": [
        "file = '/content/drive/MyDrive/athleteEventsNoPersonal.csv'\n",
        "df = pd.read_csv(file)\n",
        "df"
      ],
      "metadata": {
        "id": "3VRGRmMQa7A3"
      },
      "execution_count": null,
      "outputs": []
    },
    {
      "cell_type": "code",
      "source": [
        "# Obtener el número de filas\n",
        "num_filas = df.shape[0]\n",
        "\n",
        "print(\"Número de filas:\", num_filas)"
      ],
      "metadata": {
        "id": "AdoId0blbUW2"
      },
      "execution_count": null,
      "outputs": []
    },
    {
      "cell_type": "code",
      "source": [
        "\n",
        "# Obtener el número de columnas\n",
        "num_columnas = df.shape[1]\n",
        "\n",
        "print(\"Número de columnas:\", num_columnas)"
      ],
      "metadata": {
        "colab": {
          "base_uri": "https://localhost:8080/"
        },
        "id": "0SssSiMibkUB",
        "outputId": "0246909a-71ea-48db-a1c9-481d0bcaebae"
      },
      "execution_count": null,
      "outputs": [
        {
          "output_type": "stream",
          "name": "stdout",
          "text": [
            "Número de columnas: 12\n"
          ]
        }
      ]
    },
    {
      "cell_type": "code",
      "source": [
        "# Identificar las columnas con valores nulos\n",
        "columnas_con_nulos = df.isnull().sum()\n",
        "\n",
        "# Filtrar las columnas que tienen valores nulos\n",
        "columnas_con_valores_faltantes = columnas_con_nulos[columnas_con_nulos > 0]\n",
        "\n",
        "print(\"Columnas con valores faltantes:\")\n",
        "print(columnas_con_valores_faltantes)"
      ],
      "metadata": {
        "id": "V2PT9JbFbwXU"
      },
      "execution_count": null,
      "outputs": []
    },
    {
      "cell_type": "code",
      "source": [
        "#¿Cuántas entradas corresponden a la ciudad de Londres?\n",
        "\n",
        "count_london = df['City'].value_counts()['London']\n",
        "print(\"Número de entradas correspondientes a la ciudad de Londres:\", count_london)\n"
      ],
      "metadata": {
        "colab": {
          "base_uri": "https://localhost:8080/"
        },
        "id": "EmOrdCy1cfed",
        "outputId": "db9a1a36-2313-442e-8c14-d02f1a9f3117"
      },
      "execution_count": null,
      "outputs": [
        {
          "output_type": "stream",
          "name": "stdout",
          "text": [
            "Número de entradas correspondientes a la ciudad de Londres: 3370\n"
          ]
        }
      ]
    },
    {
      "cell_type": "code",
      "source": [
        "#¿Cuántos años tiene el atleta más joven en nuestros datos de muestra?  Sugerencia: usar min()\n",
        "youngest_age = df['Age'].min()\n",
        "print(\"Edad del atleta más joven:\", youngest_age)"
      ],
      "metadata": {
        "colab": {
          "base_uri": "https://localhost:8080/"
        },
        "id": "Ln1DbKCUcjGc",
        "outputId": "36f5cb26-7ca2-4349-fce9-0d35e8f7ea96"
      },
      "execution_count": null,
      "outputs": [
        {
          "output_type": "stream",
          "name": "stdout",
          "text": [
            "Edad del atleta más joven: 11.0\n"
          ]
        }
      ]
    },
    {
      "cell_type": "code",
      "source": [
        "# Creen filtros para encontrar:\n",
        "\n",
        "#a. ¿Cuántos atletas que participaron en el deporte \"Tug-Of-War\" (tira y afloja)\n",
        "#    pertenecían en el equipo “Sweden” (sueco) en el conjunto de datos de muestra?\n",
        "\n",
        "# Filtrar por deporte y equipo\n",
        "filtro = (df['Sport'] == 'Tug-Of-War') & (df['Team'] == 'Sweden')\n",
        "\n",
        "# Contar el número de filas que cumplen con el filtro\n",
        "num_atletas_suecos_tug_of_war = len(df[filtro])\n",
        "\n",
        "print(\"Número de atletas suecos en Tug-Of-War:\", num_atletas_suecos_tug_of_war)"
      ],
      "metadata": {
        "colab": {
          "base_uri": "https://localhost:8080/"
        },
        "id": "Oh7auzz-dYgE",
        "outputId": "074dbbb7-da05-4687-cc20-625041288036"
      },
      "execution_count": null,
      "outputs": [
        {
          "output_type": "stream",
          "name": "stdout",
          "text": [
            "Número de atletas suecos en Tug-Of-War: 6\n"
          ]
        }
      ]
    },
    {
      "cell_type": "code",
      "source": [
        "# b. ¿Cuántas medallas de oro se le entregaron a los atletas que tenían más de 40 años?\n",
        "# Filtrar por edad y medalla de oro\n",
        "filtro = (df['Age'] > 40) & (df['Medal'] == 'Gold')\n",
        "\n",
        "# Contar el número de filas que cumplen con el filtro\n",
        "num_medallas_oro_mayores_40 = len(df[filtro])\n",
        "\n",
        "print(\"Número de medallas de oro para atletas mayores de 40 años:\", num_medallas_oro_mayores_40)"
      ],
      "metadata": {
        "colab": {
          "base_uri": "https://localhost:8080/"
        },
        "id": "99h4jh4Ddd2i",
        "outputId": "ec010769-a8d3-417c-89ba-64bad61d7a91"
      },
      "execution_count": null,
      "outputs": [
        {
          "output_type": "stream",
          "name": "stdout",
          "text": [
            "Número de medallas de oro para atletas mayores de 40 años: 66\n"
          ]
        }
      ]
    },
    {
      "cell_type": "code",
      "source": [
        "# 3. Determinen la altura promedio de:\n",
        "\n",
        "# a. Todas las filas incluidas.\n",
        "\n",
        "altura_promedio_total = df['Height'].mean()\n",
        "print(\"Altura promedio de todas las filas:\", altura_promedio_total)"
      ],
      "metadata": {
        "colab": {
          "base_uri": "https://localhost:8080/"
        },
        "id": "TFwm9cn1d_xr",
        "outputId": "92116e01-150f-4343-dbaa-9c018edc450c"
      },
      "execution_count": null,
      "outputs": [
        {
          "output_type": "stream",
          "name": "stdout",
          "text": [
            "Altura promedio de todas las filas: 175.3811165585956\n"
          ]
        }
      ]
    },
    {
      "cell_type": "code",
      "source": [
        "# b. Todas las filas incluidas, pero agrupadas por Event (evento).\n",
        "altura_promedio_por_evento = df.groupby('Event')['Height'].mean()\n",
        "print(\"Altura promedio por evento:\")\n",
        "print(altura_promedio_por_evento)"
      ],
      "metadata": {
        "id": "wNmzFdpQeGai"
      },
      "execution_count": null,
      "outputs": []
    },
    {
      "cell_type": "code",
      "source": [
        "# c. Bono: Este conjunto de datos contiene muchos atletas más de una vez\n",
        "#  (si compitieron en varios eventos y/o varios años). Pueden confirmarlo encontrarlo .\n",
        "#  value_counts en la columna ID.  Para la tarea del bono queremos que obtengan la altura promedio\n",
        "# de todos los atletas, pero sin incluir algún atleta más de una vez.\n",
        "# Pista: Aprendimos cómo eliminar duplicados si CADA columna fuera idéntica,\n",
        "# sin embargo, ahora tenemos que eliminar una fila cada vez que un ID se repite.\n",
        "# Para hacer eso, pueden usar un subconjunto de sus datos como un argumento en la función drop_duplicates.\n",
        "# También le pueden decir a Python cuales duplicados mantener usando el argumento keep.\n",
        "\n",
        "# Eliminar los duplicados basados en la columna \"ID\" y mantener la primera aparición\n",
        "df_unique = df.drop_duplicates(subset='ID', keep='first')\n",
        "\n",
        "# Calcular la altura promedio de todos los atletas únicos\n",
        "altura_promedio_unicos = df_unique['Height'].mean()\n",
        "print(\"Altura promedio de todos los atletas únicos:\", altura_promedio_unicos)\n"
      ],
      "metadata": {
        "colab": {
          "base_uri": "https://localhost:8080/"
        },
        "id": "HJf7gPoGekAN",
        "outputId": "31dc1949-19ab-4b50-d5a6-d1578ec40e1b"
      },
      "execution_count": null,
      "outputs": [
        {
          "output_type": "stream",
          "name": "stdout",
          "text": [
            "Altura promedio de todos los atletas únicos: 176.31818479042698\n"
          ]
        }
      ]
    }
  ]
}