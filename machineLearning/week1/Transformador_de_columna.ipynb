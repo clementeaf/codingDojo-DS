{
  "nbformat": 4,
  "nbformat_minor": 0,
  "metadata": {
    "colab": {
      "provenance": [],
      "authorship_tag": "ABX9TyN1CO1lo9eIM7gItr2OdSFm",
      "include_colab_link": true
    },
    "kernelspec": {
      "name": "python3",
      "display_name": "Python 3"
    },
    "language_info": {
      "name": "python"
    }
  },
  "cells": [
    {
      "cell_type": "markdown",
      "metadata": {
        "id": "view-in-github",
        "colab_type": "text"
      },
      "source": [
        "<a href=\"https://colab.research.google.com/github/clementeaf/codingDojo-DS/blob/main/machineLearning/week1/Transformador_de_columna.ipynb\" target=\"_parent\"><img src=\"https://colab.research.google.com/assets/colab-badge.svg\" alt=\"Open In Colab\"/></a>"
      ]
    },
    {
      "cell_type": "code",
      "execution_count": 1,
      "metadata": {
        "colab": {
          "base_uri": "https://localhost:8080/"
        },
        "id": "xCGgL_VHTmEL",
        "outputId": "8f220a36-8fd0-4074-f899-7d3c3edff355"
      },
      "outputs": [
        {
          "output_type": "stream",
          "name": "stdout",
          "text": [
            "Mounted at /content/drive\n"
          ]
        }
      ],
      "source": [
        "from google.colab import drive\n",
        "drive.mount('/content/drive')"
      ]
    },
    {
      "cell_type": "code",
      "source": [
        "import pandas as pd\n",
        "import numpy as np\n",
        "from sklearn.model_selection import train_test_split\n",
        "from sklearn.compose import make_column_selector\n",
        "from sklearn.preprocessing import StandardScaler, OneHotEncoder\n",
        "from sklearn.compose import make_column_transformer"
      ],
      "metadata": {
        "id": "y6YcU8liVKw1"
      },
      "execution_count": 24,
      "outputs": []
    },
    {
      "cell_type": "code",
      "source": [
        "file=\"/content/drive/MyDrive/medical.xlsx\"\n",
        "df=pd.read_excel(file)\n",
        "df.head()"
      ],
      "metadata": {
        "id": "r4kJvwrjVMLU"
      },
      "execution_count": null,
      "outputs": []
    },
    {
      "cell_type": "markdown",
      "source": [
        "## Formato para ML y train test split"
      ],
      "metadata": {
        "id": "JtWdRAUSb7PT"
      }
    },
    {
      "cell_type": "code",
      "source": [
        "X = df.drop(columns = 'Additional_charges')\n",
        "y = df['Additional_charges']\n",
        "X_train, X_test, y_train, y_test = train_test_split(X, y, random_state = 42)"
      ],
      "metadata": {
        "id": "zFRixUCUb99m"
      },
      "execution_count": 20,
      "outputs": []
    },
    {
      "cell_type": "markdown",
      "source": [
        "## Realizar selectores de columnas"
      ],
      "metadata": {
        "id": "A9t0lRG6cBVK"
      }
    },
    {
      "cell_type": "code",
      "source": [
        "# Instanciar los selectores de columnas categóricas y numéricas para seleccionar las columnas adecuadas\n",
        "cat_selector = make_column_selector(dtype_include='object')\n",
        "num_selector = make_column_selector(dtype_include='number')"
      ],
      "metadata": {
        "id": "19YDThZOcDo5"
      },
      "execution_count": 21,
      "outputs": []
    },
    {
      "cell_type": "code",
      "source": [
        "# Instanciar el escalador estándar y el codificador one hot\n",
        "scaler = StandardScaler()\n",
        "ohe = OneHotEncoder(handle_unknown='ignore')"
      ],
      "metadata": {
        "id": "2CvTxspKcd5H"
      },
      "execution_count": 22,
      "outputs": []
    },
    {
      "cell_type": "markdown",
      "source": [
        "## Emparejar el transformador con las columnas"
      ],
      "metadata": {
        "id": "PIG5HgXbcgl3"
      }
    },
    {
      "cell_type": "code",
      "source": [
        "# Make tuples for preprocessing the categorical and numeric columns\n",
        "num_tuple = (scaler, num_selector)\n",
        "cat_tuple = (ohe, cat_selector)"
      ],
      "metadata": {
        "id": "lqwMo_8kcihq"
      },
      "execution_count": 23,
      "outputs": []
    },
    {
      "cell_type": "markdown",
      "source": [
        "## Instanciación de ColumnTransformer"
      ],
      "metadata": {
        "id": "rEc2_mcUcrzj"
      }
    },
    {
      "cell_type": "code",
      "source": [
        "col_transformer = make_column_transformer(num_tuple, cat_tuple, remainder = 'passthrough')"
      ],
      "metadata": {
        "id": "ieZYaq-zct-D"
      },
      "execution_count": 25,
      "outputs": []
    },
    {
      "cell_type": "markdown",
      "source": [
        "## Encajar el transformador"
      ],
      "metadata": {
        "id": "zn7WD-Fec1pk"
      }
    },
    {
      "cell_type": "code",
      "source": [
        "col_transformer.fit(X_train)"
      ],
      "metadata": {
        "id": "p6RLAkzDc3yX"
      },
      "execution_count": null,
      "outputs": []
    },
    {
      "cell_type": "markdown",
      "source": [
        "## Transformación"
      ],
      "metadata": {
        "id": "ZFXBk7XGdCBS"
      }
    },
    {
      "cell_type": "code",
      "source": [
        "X_train_processed = col_transformer.transform(X_train)\n",
        "X_test_processed = col_transformer.transform(X_test)"
      ],
      "metadata": {
        "id": "-qU2tncedD94"
      },
      "execution_count": 27,
      "outputs": []
    },
    {
      "cell_type": "markdown",
      "source": [
        "## Ver las transformaciones"
      ],
      "metadata": {
        "id": "CwkeWAcrdHRO"
      }
    },
    {
      "cell_type": "code",
      "source": [
        "X_train_df = pd.DataFrame(X_train_processed)\n",
        "X_train_df.head()"
      ],
      "metadata": {
        "colab": {
          "base_uri": "https://localhost:8080/",
          "height": 299
        },
        "id": "PY6PDSM-dIbH",
        "outputId": "0b031875-5b5f-4a81-8630-d7f67d1c7dd5"
      },
      "execution_count": 28,
      "outputs": [
        {
          "output_type": "execute_result",
          "data": {
            "text/plain": [
              "         0         1         2         3         4    5         6         7   \\\n",
              "0 -0.508205  0.281935 -0.060153  0.272586 -1.123467  0.0  0.509399 -0.008943   \n",
              "1 -0.720642  0.252836  1.241233  1.119125 -0.619881  0.0 -0.999823  1.907372   \n",
              "2 -0.493403  0.482823 -0.493948  0.272586 -0.518276  0.0  0.119354 -0.967100   \n",
              "3  1.134821 -0.434666  2.108824  1.307245  1.938720  0.0 -1.044875 -0.008943   \n",
              "4  0.587322  0.497439 -0.927744 -0.809103 -0.328240  0.0  1.283708 -0.008943   \n",
              "\n",
              "         8         9   ...   90   91   92   93   94   95   96   97   98   99  \n",
              "0  0.014639 -0.620174  ...  1.0  0.0  0.0  0.0  0.0  1.0  0.0  0.0  1.0  0.0  \n",
              "1  0.014639 -0.620174  ...  1.0  0.0  0.0  0.0  0.0  1.0  1.0  0.0  0.0  0.0  \n",
              "2  0.014639 -0.620174  ...  0.0  1.0  1.0  0.0  0.0  0.0  0.0  0.0  1.0  0.0  \n",
              "3 -0.983474  2.762592  ...  0.0  1.0  1.0  0.0  0.0  0.0  1.0  0.0  0.0  0.0  \n",
              "4  0.014639 -0.620174  ...  0.0  0.0  0.0  0.0  0.0  1.0  1.0  0.0  0.0  0.0  \n",
              "\n",
              "[5 rows x 100 columns]"
            ],
            "text/html": [
              "\n",
              "\n",
              "  <div id=\"df-74c4d01a-dcec-4f00-bdef-a9f5fe758170\">\n",
              "    <div class=\"colab-df-container\">\n",
              "      <div>\n",
              "<style scoped>\n",
              "    .dataframe tbody tr th:only-of-type {\n",
              "        vertical-align: middle;\n",
              "    }\n",
              "\n",
              "    .dataframe tbody tr th {\n",
              "        vertical-align: top;\n",
              "    }\n",
              "\n",
              "    .dataframe thead th {\n",
              "        text-align: right;\n",
              "    }\n",
              "</style>\n",
              "<table border=\"1\" class=\"dataframe\">\n",
              "  <thead>\n",
              "    <tr style=\"text-align: right;\">\n",
              "      <th></th>\n",
              "      <th>0</th>\n",
              "      <th>1</th>\n",
              "      <th>2</th>\n",
              "      <th>3</th>\n",
              "      <th>4</th>\n",
              "      <th>5</th>\n",
              "      <th>6</th>\n",
              "      <th>7</th>\n",
              "      <th>8</th>\n",
              "      <th>9</th>\n",
              "      <th>...</th>\n",
              "      <th>90</th>\n",
              "      <th>91</th>\n",
              "      <th>92</th>\n",
              "      <th>93</th>\n",
              "      <th>94</th>\n",
              "      <th>95</th>\n",
              "      <th>96</th>\n",
              "      <th>97</th>\n",
              "      <th>98</th>\n",
              "      <th>99</th>\n",
              "    </tr>\n",
              "  </thead>\n",
              "  <tbody>\n",
              "    <tr>\n",
              "      <th>0</th>\n",
              "      <td>-0.508205</td>\n",
              "      <td>0.281935</td>\n",
              "      <td>-0.060153</td>\n",
              "      <td>0.272586</td>\n",
              "      <td>-1.123467</td>\n",
              "      <td>0.0</td>\n",
              "      <td>0.509399</td>\n",
              "      <td>-0.008943</td>\n",
              "      <td>0.014639</td>\n",
              "      <td>-0.620174</td>\n",
              "      <td>...</td>\n",
              "      <td>1.0</td>\n",
              "      <td>0.0</td>\n",
              "      <td>0.0</td>\n",
              "      <td>0.0</td>\n",
              "      <td>0.0</td>\n",
              "      <td>1.0</td>\n",
              "      <td>0.0</td>\n",
              "      <td>0.0</td>\n",
              "      <td>1.0</td>\n",
              "      <td>0.0</td>\n",
              "    </tr>\n",
              "    <tr>\n",
              "      <th>1</th>\n",
              "      <td>-0.720642</td>\n",
              "      <td>0.252836</td>\n",
              "      <td>1.241233</td>\n",
              "      <td>1.119125</td>\n",
              "      <td>-0.619881</td>\n",
              "      <td>0.0</td>\n",
              "      <td>-0.999823</td>\n",
              "      <td>1.907372</td>\n",
              "      <td>0.014639</td>\n",
              "      <td>-0.620174</td>\n",
              "      <td>...</td>\n",
              "      <td>1.0</td>\n",
              "      <td>0.0</td>\n",
              "      <td>0.0</td>\n",
              "      <td>0.0</td>\n",
              "      <td>0.0</td>\n",
              "      <td>1.0</td>\n",
              "      <td>1.0</td>\n",
              "      <td>0.0</td>\n",
              "      <td>0.0</td>\n",
              "      <td>0.0</td>\n",
              "    </tr>\n",
              "    <tr>\n",
              "      <th>2</th>\n",
              "      <td>-0.493403</td>\n",
              "      <td>0.482823</td>\n",
              "      <td>-0.493948</td>\n",
              "      <td>0.272586</td>\n",
              "      <td>-0.518276</td>\n",
              "      <td>0.0</td>\n",
              "      <td>0.119354</td>\n",
              "      <td>-0.967100</td>\n",
              "      <td>0.014639</td>\n",
              "      <td>-0.620174</td>\n",
              "      <td>...</td>\n",
              "      <td>0.0</td>\n",
              "      <td>1.0</td>\n",
              "      <td>1.0</td>\n",
              "      <td>0.0</td>\n",
              "      <td>0.0</td>\n",
              "      <td>0.0</td>\n",
              "      <td>0.0</td>\n",
              "      <td>0.0</td>\n",
              "      <td>1.0</td>\n",
              "      <td>0.0</td>\n",
              "    </tr>\n",
              "    <tr>\n",
              "      <th>3</th>\n",
              "      <td>1.134821</td>\n",
              "      <td>-0.434666</td>\n",
              "      <td>2.108824</td>\n",
              "      <td>1.307245</td>\n",
              "      <td>1.938720</td>\n",
              "      <td>0.0</td>\n",
              "      <td>-1.044875</td>\n",
              "      <td>-0.008943</td>\n",
              "      <td>-0.983474</td>\n",
              "      <td>2.762592</td>\n",
              "      <td>...</td>\n",
              "      <td>0.0</td>\n",
              "      <td>1.0</td>\n",
              "      <td>1.0</td>\n",
              "      <td>0.0</td>\n",
              "      <td>0.0</td>\n",
              "      <td>0.0</td>\n",
              "      <td>1.0</td>\n",
              "      <td>0.0</td>\n",
              "      <td>0.0</td>\n",
              "      <td>0.0</td>\n",
              "    </tr>\n",
              "    <tr>\n",
              "      <th>4</th>\n",
              "      <td>0.587322</td>\n",
              "      <td>0.497439</td>\n",
              "      <td>-0.927744</td>\n",
              "      <td>-0.809103</td>\n",
              "      <td>-0.328240</td>\n",
              "      <td>0.0</td>\n",
              "      <td>1.283708</td>\n",
              "      <td>-0.008943</td>\n",
              "      <td>0.014639</td>\n",
              "      <td>-0.620174</td>\n",
              "      <td>...</td>\n",
              "      <td>0.0</td>\n",
              "      <td>0.0</td>\n",
              "      <td>0.0</td>\n",
              "      <td>0.0</td>\n",
              "      <td>0.0</td>\n",
              "      <td>1.0</td>\n",
              "      <td>1.0</td>\n",
              "      <td>0.0</td>\n",
              "      <td>0.0</td>\n",
              "      <td>0.0</td>\n",
              "    </tr>\n",
              "  </tbody>\n",
              "</table>\n",
              "<p>5 rows × 100 columns</p>\n",
              "</div>\n",
              "      <button class=\"colab-df-convert\" onclick=\"convertToInteractive('df-74c4d01a-dcec-4f00-bdef-a9f5fe758170')\"\n",
              "              title=\"Convert this dataframe to an interactive table.\"\n",
              "              style=\"display:none;\">\n",
              "\n",
              "  <svg xmlns=\"http://www.w3.org/2000/svg\" height=\"24px\"viewBox=\"0 0 24 24\"\n",
              "       width=\"24px\">\n",
              "    <path d=\"M0 0h24v24H0V0z\" fill=\"none\"/>\n",
              "    <path d=\"M18.56 5.44l.94 2.06.94-2.06 2.06-.94-2.06-.94-.94-2.06-.94 2.06-2.06.94zm-11 1L8.5 8.5l.94-2.06 2.06-.94-2.06-.94L8.5 2.5l-.94 2.06-2.06.94zm10 10l.94 2.06.94-2.06 2.06-.94-2.06-.94-.94-2.06-.94 2.06-2.06.94z\"/><path d=\"M17.41 7.96l-1.37-1.37c-.4-.4-.92-.59-1.43-.59-.52 0-1.04.2-1.43.59L10.3 9.45l-7.72 7.72c-.78.78-.78 2.05 0 2.83L4 21.41c.39.39.9.59 1.41.59.51 0 1.02-.2 1.41-.59l7.78-7.78 2.81-2.81c.8-.78.8-2.07 0-2.86zM5.41 20L4 18.59l7.72-7.72 1.47 1.35L5.41 20z\"/>\n",
              "  </svg>\n",
              "      </button>\n",
              "\n",
              "\n",
              "\n",
              "    <div id=\"df-534fa3e7-cbf9-47fe-8363-7e97283f69d5\">\n",
              "      <button class=\"colab-df-quickchart\" onclick=\"quickchart('df-534fa3e7-cbf9-47fe-8363-7e97283f69d5')\"\n",
              "              title=\"Suggest charts.\"\n",
              "              style=\"display:none;\">\n",
              "\n",
              "<svg xmlns=\"http://www.w3.org/2000/svg\" height=\"24px\"viewBox=\"0 0 24 24\"\n",
              "     width=\"24px\">\n",
              "    <g>\n",
              "        <path d=\"M19 3H5c-1.1 0-2 .9-2 2v14c0 1.1.9 2 2 2h14c1.1 0 2-.9 2-2V5c0-1.1-.9-2-2-2zM9 17H7v-7h2v7zm4 0h-2V7h2v10zm4 0h-2v-4h2v4z\"/>\n",
              "    </g>\n",
              "</svg>\n",
              "      </button>\n",
              "    </div>\n",
              "\n",
              "<style>\n",
              "  .colab-df-quickchart {\n",
              "    background-color: #E8F0FE;\n",
              "    border: none;\n",
              "    border-radius: 50%;\n",
              "    cursor: pointer;\n",
              "    display: none;\n",
              "    fill: #1967D2;\n",
              "    height: 32px;\n",
              "    padding: 0 0 0 0;\n",
              "    width: 32px;\n",
              "  }\n",
              "\n",
              "  .colab-df-quickchart:hover {\n",
              "    background-color: #E2EBFA;\n",
              "    box-shadow: 0px 1px 2px rgba(60, 64, 67, 0.3), 0px 1px 3px 1px rgba(60, 64, 67, 0.15);\n",
              "    fill: #174EA6;\n",
              "  }\n",
              "\n",
              "  [theme=dark] .colab-df-quickchart {\n",
              "    background-color: #3B4455;\n",
              "    fill: #D2E3FC;\n",
              "  }\n",
              "\n",
              "  [theme=dark] .colab-df-quickchart:hover {\n",
              "    background-color: #434B5C;\n",
              "    box-shadow: 0px 1px 3px 1px rgba(0, 0, 0, 0.15);\n",
              "    filter: drop-shadow(0px 1px 2px rgba(0, 0, 0, 0.3));\n",
              "    fill: #FFFFFF;\n",
              "  }\n",
              "</style>\n",
              "\n",
              "    <script>\n",
              "      async function quickchart(key) {\n",
              "        const containerElement = document.querySelector('#' + key);\n",
              "        const charts = await google.colab.kernel.invokeFunction(\n",
              "            'suggestCharts', [key], {});\n",
              "      }\n",
              "    </script>\n",
              "\n",
              "      <script>\n",
              "\n",
              "function displayQuickchartButton(domScope) {\n",
              "  let quickchartButtonEl =\n",
              "    domScope.querySelector('#df-534fa3e7-cbf9-47fe-8363-7e97283f69d5 button.colab-df-quickchart');\n",
              "  quickchartButtonEl.style.display =\n",
              "    google.colab.kernel.accessAllowed ? 'block' : 'none';\n",
              "}\n",
              "\n",
              "        displayQuickchartButton(document);\n",
              "      </script>\n",
              "      <style>\n",
              "    .colab-df-container {\n",
              "      display:flex;\n",
              "      flex-wrap:wrap;\n",
              "      gap: 12px;\n",
              "    }\n",
              "\n",
              "    .colab-df-convert {\n",
              "      background-color: #E8F0FE;\n",
              "      border: none;\n",
              "      border-radius: 50%;\n",
              "      cursor: pointer;\n",
              "      display: none;\n",
              "      fill: #1967D2;\n",
              "      height: 32px;\n",
              "      padding: 0 0 0 0;\n",
              "      width: 32px;\n",
              "    }\n",
              "\n",
              "    .colab-df-convert:hover {\n",
              "      background-color: #E2EBFA;\n",
              "      box-shadow: 0px 1px 2px rgba(60, 64, 67, 0.3), 0px 1px 3px 1px rgba(60, 64, 67, 0.15);\n",
              "      fill: #174EA6;\n",
              "    }\n",
              "\n",
              "    [theme=dark] .colab-df-convert {\n",
              "      background-color: #3B4455;\n",
              "      fill: #D2E3FC;\n",
              "    }\n",
              "\n",
              "    [theme=dark] .colab-df-convert:hover {\n",
              "      background-color: #434B5C;\n",
              "      box-shadow: 0px 1px 3px 1px rgba(0, 0, 0, 0.15);\n",
              "      filter: drop-shadow(0px 1px 2px rgba(0, 0, 0, 0.3));\n",
              "      fill: #FFFFFF;\n",
              "    }\n",
              "  </style>\n",
              "\n",
              "      <script>\n",
              "        const buttonEl =\n",
              "          document.querySelector('#df-74c4d01a-dcec-4f00-bdef-a9f5fe758170 button.colab-df-convert');\n",
              "        buttonEl.style.display =\n",
              "          google.colab.kernel.accessAllowed ? 'block' : 'none';\n",
              "\n",
              "        async function convertToInteractive(key) {\n",
              "          const element = document.querySelector('#df-74c4d01a-dcec-4f00-bdef-a9f5fe758170');\n",
              "          const dataTable =\n",
              "            await google.colab.kernel.invokeFunction('convertToInteractive',\n",
              "                                                     [key], {});\n",
              "          if (!dataTable) return;\n",
              "\n",
              "          const docLinkHtml = 'Like what you see? Visit the ' +\n",
              "            '<a target=\"_blank\" href=https://colab.research.google.com/notebooks/data_table.ipynb>data table notebook</a>'\n",
              "            + ' to learn more about interactive tables.';\n",
              "          element.innerHTML = '';\n",
              "          dataTable['output_type'] = 'display_data';\n",
              "          await google.colab.output.renderOutput(dataTable, element);\n",
              "          const docLink = document.createElement('div');\n",
              "          docLink.innerHTML = docLinkHtml;\n",
              "          element.appendChild(docLink);\n",
              "        }\n",
              "      </script>\n",
              "    </div>\n",
              "  </div>\n"
            ]
          },
          "metadata": {},
          "execution_count": 28
        }
      ]
    },
    {
      "cell_type": "code",
      "source": [
        "X_train_df.info()"
      ],
      "metadata": {
        "colab": {
          "base_uri": "https://localhost:8080/"
        },
        "id": "Fh1drSHYdN1C",
        "outputId": "80d5f411-36a9-435c-da9d-93c86d193296"
      },
      "execution_count": 29,
      "outputs": [
        {
          "output_type": "stream",
          "name": "stdout",
          "text": [
            "<class 'pandas.core.frame.DataFrame'>\n",
            "RangeIndex: 750 entries, 0 to 749\n",
            "Data columns (total 100 columns):\n",
            " #   Column  Non-Null Count  Dtype  \n",
            "---  ------  --------------  -----  \n",
            " 0   0       750 non-null    float64\n",
            " 1   1       750 non-null    float64\n",
            " 2   2       750 non-null    float64\n",
            " 3   3       750 non-null    float64\n",
            " 4   4       750 non-null    float64\n",
            " 5   5       750 non-null    float64\n",
            " 6   6       750 non-null    float64\n",
            " 7   7       750 non-null    float64\n",
            " 8   8       750 non-null    float64\n",
            " 9   9       750 non-null    float64\n",
            " 10  10      750 non-null    float64\n",
            " 11  11      750 non-null    float64\n",
            " 12  12      750 non-null    float64\n",
            " 13  13      750 non-null    float64\n",
            " 14  14      750 non-null    float64\n",
            " 15  15      750 non-null    float64\n",
            " 16  16      750 non-null    float64\n",
            " 17  17      750 non-null    float64\n",
            " 18  18      750 non-null    float64\n",
            " 19  19      750 non-null    float64\n",
            " 20  20      750 non-null    float64\n",
            " 21  21      750 non-null    float64\n",
            " 22  22      750 non-null    float64\n",
            " 23  23      750 non-null    float64\n",
            " 24  24      750 non-null    float64\n",
            " 25  25      750 non-null    float64\n",
            " 26  26      750 non-null    float64\n",
            " 27  27      750 non-null    float64\n",
            " 28  28      750 non-null    float64\n",
            " 29  29      750 non-null    float64\n",
            " 30  30      750 non-null    float64\n",
            " 31  31      750 non-null    float64\n",
            " 32  32      750 non-null    float64\n",
            " 33  33      750 non-null    float64\n",
            " 34  34      750 non-null    float64\n",
            " 35  35      750 non-null    float64\n",
            " 36  36      750 non-null    float64\n",
            " 37  37      750 non-null    float64\n",
            " 38  38      750 non-null    float64\n",
            " 39  39      750 non-null    float64\n",
            " 40  40      750 non-null    float64\n",
            " 41  41      750 non-null    float64\n",
            " 42  42      750 non-null    float64\n",
            " 43  43      750 non-null    float64\n",
            " 44  44      750 non-null    float64\n",
            " 45  45      750 non-null    float64\n",
            " 46  46      750 non-null    float64\n",
            " 47  47      750 non-null    float64\n",
            " 48  48      750 non-null    float64\n",
            " 49  49      750 non-null    float64\n",
            " 50  50      750 non-null    float64\n",
            " 51  51      750 non-null    float64\n",
            " 52  52      750 non-null    float64\n",
            " 53  53      750 non-null    float64\n",
            " 54  54      750 non-null    float64\n",
            " 55  55      750 non-null    float64\n",
            " 56  56      750 non-null    float64\n",
            " 57  57      750 non-null    float64\n",
            " 58  58      750 non-null    float64\n",
            " 59  59      750 non-null    float64\n",
            " 60  60      750 non-null    float64\n",
            " 61  61      750 non-null    float64\n",
            " 62  62      750 non-null    float64\n",
            " 63  63      750 non-null    float64\n",
            " 64  64      750 non-null    float64\n",
            " 65  65      750 non-null    float64\n",
            " 66  66      750 non-null    float64\n",
            " 67  67      750 non-null    float64\n",
            " 68  68      750 non-null    float64\n",
            " 69  69      750 non-null    float64\n",
            " 70  70      750 non-null    float64\n",
            " 71  71      750 non-null    float64\n",
            " 72  72      750 non-null    float64\n",
            " 73  73      750 non-null    float64\n",
            " 74  74      750 non-null    float64\n",
            " 75  75      750 non-null    float64\n",
            " 76  76      750 non-null    float64\n",
            " 77  77      750 non-null    float64\n",
            " 78  78      750 non-null    float64\n",
            " 79  79      750 non-null    float64\n",
            " 80  80      750 non-null    float64\n",
            " 81  81      750 non-null    float64\n",
            " 82  82      750 non-null    float64\n",
            " 83  83      750 non-null    float64\n",
            " 84  84      750 non-null    float64\n",
            " 85  85      750 non-null    float64\n",
            " 86  86      750 non-null    float64\n",
            " 87  87      750 non-null    float64\n",
            " 88  88      750 non-null    float64\n",
            " 89  89      750 non-null    float64\n",
            " 90  90      750 non-null    float64\n",
            " 91  91      750 non-null    float64\n",
            " 92  92      750 non-null    float64\n",
            " 93  93      750 non-null    float64\n",
            " 94  94      750 non-null    float64\n",
            " 95  95      750 non-null    float64\n",
            " 96  96      750 non-null    float64\n",
            " 97  97      750 non-null    float64\n",
            " 98  98      750 non-null    float64\n",
            " 99  99      750 non-null    float64\n",
            "dtypes: float64(100)\n",
            "memory usage: 586.1 KB\n"
          ]
        }
      ]
    }
  ]
}