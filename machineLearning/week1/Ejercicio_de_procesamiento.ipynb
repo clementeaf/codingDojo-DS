{
  "nbformat": 4,
  "nbformat_minor": 0,
  "metadata": {
    "colab": {
      "provenance": [],
      "authorship_tag": "ABX9TyO1tssdTFnZOIARZNF63T2g",
      "include_colab_link": true
    },
    "kernelspec": {
      "name": "python3",
      "display_name": "Python 3"
    },
    "language_info": {
      "name": "python"
    }
  },
  "cells": [
    {
      "cell_type": "markdown",
      "metadata": {
        "id": "view-in-github",
        "colab_type": "text"
      },
      "source": [
        "<a href=\"https://colab.research.google.com/github/clementeaf/codingDojo-DS/blob/main/machineLearning/week1/Ejercicio_de_procesamiento.ipynb\" target=\"_parent\"><img src=\"https://colab.research.google.com/assets/colab-badge.svg\" alt=\"Open In Colab\"/></a>"
      ]
    },
    {
      "cell_type": "code",
      "execution_count": 2,
      "metadata": {
        "colab": {
          "base_uri": "https://localhost:8080/"
        },
        "id": "F3MZbTUiEINm",
        "outputId": "6f699293-4134-485d-eafc-3e891817be05"
      },
      "outputs": [
        {
          "output_type": "stream",
          "name": "stdout",
          "text": [
            "Mounted at /content/drive\n"
          ]
        }
      ],
      "source": [
        "from google.colab import drive\n",
        "drive.mount('/content/drive')"
      ]
    },
    {
      "cell_type": "code",
      "source": [
        "import matplotlib.pyplot as plt\n",
        "import seaborn as sns\n",
        "import pandas as pd\n",
        "import numpy as np\n",
        "import plotly.express as px\n",
        "import plotly.graph_objects as go\n",
        "from sklearn.model_selection import train_test_split\n",
        "from sklearn.preprocessing import StandardScaler, MinMaxScaler"
      ],
      "metadata": {
        "id": "_wof2JigEI3K"
      },
      "execution_count": 9,
      "outputs": []
    },
    {
      "cell_type": "code",
      "source": [
        "df = pd.read_csv('/content/drive/MyDrive/insurance.csv')\n",
        "df.describe()"
      ],
      "metadata": {
        "id": "Hx3cblYNENj-"
      },
      "execution_count": null,
      "outputs": []
    },
    {
      "cell_type": "markdown",
      "source": [
        "## Definir las características (X) y el objetivo (y)"
      ],
      "metadata": {
        "id": "gb2a6sj1R7iu"
      }
    },
    {
      "cell_type": "code",
      "source": [
        "# Características (X)\n",
        "X = df.drop(columns=['charges'])  # Todas las columnas excepto 'charges'\n",
        "\n",
        "# Objetivo (y)\n",
        "y = df['charges']  # Columna 'charges'"
      ],
      "metadata": {
        "id": "8pp5aZfPR9_e"
      },
      "execution_count": 5,
      "outputs": []
    },
    {
      "cell_type": "markdown",
      "source": [
        "## Realizar un train test split a los datos para prepararlos para el aprendizaje automático"
      ],
      "metadata": {
        "id": "2sU0PKkQSSpL"
      }
    },
    {
      "cell_type": "code",
      "source": [
        "# Realizar train-test split (80% para entrenamiento, 20% para prueba)\n",
        "X_train, X_test, y_train, y_test = train_test_split(X, y, test_size=0.2, random_state=42)\n",
        "\n",
        "# Imprimir el tamaño de los conjuntos de entrenamiento y prueba\n",
        "print(\"Tamaño del conjunto de entrenamiento (X_train):\", X_train.shape)\n",
        "print(\"Tamaño del conjunto de prueba (X_test):\", X_test.shape)\n",
        "print(\"Tamaño del conjunto de entrenamiento (y_train):\", y_train.shape)\n",
        "print(\"Tamaño del conjunto de prueba (y_test):\", y_test.shape)"
      ],
      "metadata": {
        "id": "xZ69gQJ6SUkc",
        "colab": {
          "base_uri": "https://localhost:8080/"
        },
        "outputId": "98c2fc9e-9dd5-4f16-9f34-4d1b5d722273"
      },
      "execution_count": 6,
      "outputs": [
        {
          "output_type": "stream",
          "name": "stdout",
          "text": [
            "Tamaño del conjunto de entrenamiento (X_train): (1070, 6)\n",
            "Tamaño del conjunto de prueba (X_test): (268, 6)\n",
            "Tamaño del conjunto de entrenamiento (y_train): (1070,)\n",
            "Tamaño del conjunto de prueba (y_test): (268,)\n"
          ]
        }
      ]
    },
    {
      "cell_type": "markdown",
      "source": [
        "### Características numéricas:\n",
        "\n",
        "#### age (Edad): Variable numérica continua que representa la edad de la persona.\n",
        "#### bmi (Índice de Masa Corporal): Variable numérica continua que representa el índice de masa corporal de la persona.\n",
        "#### charges (Cargos): Variable numérica continua que representa los cargos o costos de los seguros médicos.\n",
        "### Características ordinales:\n",
        "\n",
        "#### children (Hijos): Variable ordinal que representa el número de hijos de la persona. Aunque es numérica, se considera ordinal porque representa categorías ordenadas (0, 1, 2, 3, etc.).\n",
        "\n",
        "### Características nominales:\n",
        "\n",
        "#### sex (Sexo): Variable nominal que representa el género de la persona (por ejemplo, \"male\" o \"female\").\n",
        "#### smoker (Fumador): Variable nominal que representa si la persona es fumadora o no (por ejemplo, \"yes\" o \"no\").\n",
        "#### region (Región): Variable nominal que representa la región de residencia de la persona (por ejemplo, \"northeast\", \"southeast\", \"southwest\" o \"northwest\")."
      ],
      "metadata": {
        "id": "T7jDZMGmTEaK"
      }
    },
    {
      "cell_type": "markdown",
      "source": [
        "## Codificar de manera ordinal cualquier característica ordinal"
      ],
      "metadata": {
        "id": "XQN8UFdiTx_u"
      }
    },
    {
      "cell_type": "code",
      "source": [
        "# Características numéricas y nominales\n",
        "X_numerical_nominal = df.drop(columns=['charges', 'children'])  # Excluir 'charges' y 'children'\n",
        "X_nominal = X_numerical_nominal.select_dtypes(include='object')  # Filtrar solo características nominales\n",
        "\n",
        "# Codificación ordinal para 'children'\n",
        "ordinal_mapping = {0: 0, 1: 1, 2: 2, 3: 3, 4: 4, 5: 5}  # Asignar valores numéricos a cada categoría\n",
        "X_ordinal = df['children'].map(ordinal_mapping)\n",
        "\n",
        "# Unir características codificadas\n",
        "X_encoded = pd.concat([X_numerical_nominal, X_nominal, X_ordinal], axis=1)\n",
        "\n",
        "# Mostrar el resultado\n",
        "print(X_encoded.head())"
      ],
      "metadata": {
        "id": "vnASHFgtTR9o",
        "colab": {
          "base_uri": "https://localhost:8080/"
        },
        "outputId": "08d3d824-4c5b-4dc2-ea0b-bb97c6bf3483"
      },
      "execution_count": 7,
      "outputs": [
        {
          "output_type": "stream",
          "name": "stdout",
          "text": [
            "   age     sex     bmi smoker     region     sex smoker     region  children\n",
            "0   19  female  27.900    yes  southwest  female    yes  southwest         0\n",
            "1   18    male  33.770     no  southeast    male     no  southeast         1\n",
            "2   28    male  33.000     no  southeast    male     no  southeast         3\n",
            "3   33    male  22.705     no  northwest    male     no  northwest         0\n",
            "4   32    male  28.880     no  northwest    male     no  northwest         0\n"
          ]
        }
      ]
    },
    {
      "cell_type": "markdown",
      "source": [
        "## Realizar una codificación one-hot cualquier característica nominal"
      ],
      "metadata": {
        "id": "KU0ddGrsUBLD"
      }
    },
    {
      "cell_type": "code",
      "source": [
        "# Características numéricas y ordinales\n",
        "X_numerical_ordinal = df.drop(columns=['charges', 'sex', 'smoker', 'region'])  # Excluir 'charges', 'sex', 'smoker', 'region'\n",
        "\n",
        "# Codificación one-hot para características nominales\n",
        "X_one_hot = pd.get_dummies(df[['sex', 'smoker', 'region']], drop_first=True)\n",
        "\n",
        "# Unir características codificadas\n",
        "X_encoded = pd.concat([X_numerical_ordinal, X_one_hot], axis=1)\n",
        "\n",
        "# Mostrar el resultado\n",
        "print(X_encoded.head())"
      ],
      "metadata": {
        "id": "4dXg-btRT_Ej"
      },
      "execution_count": null,
      "outputs": []
    },
    {
      "cell_type": "markdown",
      "source": [
        "## Escalar cualquier característica numérica"
      ],
      "metadata": {
        "id": "Rlinc9GLRQBO"
      }
    },
    {
      "cell_type": "code",
      "source": [
        "# Características numéricas\n",
        "X_numerical = df[['age', 'bmi', 'children']]\n",
        "\n",
        "# Estándar scaler (estandarización)\n",
        "scaler = StandardScaler()\n",
        "X_scaled_standard = pd.DataFrame(scaler.fit_transform(X_numerical), columns=X_numerical.columns)\n",
        "\n",
        "# Min-max scaler (normalización)\n",
        "scaler = MinMaxScaler()\n",
        "X_scaled_minmax = pd.DataFrame(scaler.fit_transform(X_numerical), columns=X_numerical.columns)\n",
        "\n",
        "# Mostrar el resultado de la estandarización y la normalización\n",
        "print(\"Datos originales:\")\n",
        "print(X_numerical.head())\n",
        "print(\"\\nDatos estandarizados:\")\n",
        "print(X_scaled_standard.head())\n",
        "print(\"\\nDatos normalizados:\")\n",
        "print(X_scaled_minmax.head())"
      ],
      "metadata": {
        "id": "4DElSBsARMn4"
      },
      "execution_count": null,
      "outputs": []
    },
    {
      "cell_type": "markdown",
      "source": [
        "## Concatenar todas las características de vuelta a un DataFrame."
      ],
      "metadata": {
        "id": "yG7g5prGRvBn"
      }
    },
    {
      "cell_type": "code",
      "source": [
        "# Características numéricas y ordinales\n",
        "X_numerical_ordinal = df.drop(columns=['charges', 'sex', 'smoker', 'region'])  # Se excluten: 'charges', 'sex', 'smoker', 'region'\n",
        "\n",
        "# Estándar scaler (estandarización)\n",
        "scaler = StandardScaler()\n",
        "X_scaled_standard = pd.DataFrame(scaler.fit_transform(X_numerical), columns=X_numerical.columns)\n",
        "\n",
        "# Min-max scaler (normalización)\n",
        "scaler = MinMaxScaler()\n",
        "X_scaled_minmax = pd.DataFrame(scaler.fit_transform(X_numerical), columns=X_numerical.columns)\n",
        "\n",
        "# Concatenar todas las características en un solo DataFrame\n",
        "X_final = pd.concat([X_numerical_ordinal, X_one_hot, X_scaled_standard, X_scaled_minmax], axis=1)\n",
        "\n",
        "# Mostrar el resultado\n",
        "print(X_final)"
      ],
      "metadata": {
        "colab": {
          "base_uri": "https://localhost:8080/"
        },
        "id": "2baw-J5uR0Lc",
        "outputId": "5ee65cc6-6051-44af-c6cd-6b12b2af6f04"
      },
      "execution_count": 13,
      "outputs": [
        {
          "output_type": "stream",
          "name": "stdout",
          "text": [
            "      age     bmi  children  sex_male  smoker_yes  region_northwest  \\\n",
            "0      19  27.900         0         0           1                 0   \n",
            "1      18  33.770         1         1           0                 0   \n",
            "2      28  33.000         3         1           0                 0   \n",
            "3      33  22.705         0         1           0                 1   \n",
            "4      32  28.880         0         1           0                 1   \n",
            "...   ...     ...       ...       ...         ...               ...   \n",
            "1333   50  30.970         3         1           0                 1   \n",
            "1334   18  31.920         0         0           0                 0   \n",
            "1335   18  36.850         0         0           0                 0   \n",
            "1336   21  25.800         0         0           0                 0   \n",
            "1337   61  29.070         0         0           1                 1   \n",
            "\n",
            "      region_southeast  region_southwest       age       bmi  children  \\\n",
            "0                    0                 1 -1.438764 -0.453320 -0.908614   \n",
            "1                    1                 0 -1.509965  0.509621 -0.078767   \n",
            "2                    1                 0 -0.797954  0.383307  1.580926   \n",
            "3                    0                 0 -0.441948 -1.305531 -0.908614   \n",
            "4                    0                 0 -0.513149 -0.292556 -0.908614   \n",
            "...                ...               ...       ...       ...       ...   \n",
            "1333                 0                 0  0.768473  0.050297  1.580926   \n",
            "1334                 0                 0 -1.509965  0.206139 -0.908614   \n",
            "1335                 1                 0 -1.509965  1.014878 -0.908614   \n",
            "1336                 0                 1 -1.296362 -0.797813 -0.908614   \n",
            "1337                 0                 0  1.551686 -0.261388 -0.908614   \n",
            "\n",
            "           age       bmi  children  \n",
            "0     0.021739  0.321227       0.0  \n",
            "1     0.000000  0.479150       0.2  \n",
            "2     0.217391  0.458434       0.6  \n",
            "3     0.326087  0.181464       0.0  \n",
            "4     0.304348  0.347592       0.0  \n",
            "...        ...       ...       ...  \n",
            "1333  0.695652  0.403820       0.6  \n",
            "1334  0.000000  0.429379       0.0  \n",
            "1335  0.000000  0.562012       0.0  \n",
            "1336  0.065217  0.264730       0.0  \n",
            "1337  0.934783  0.352704       0.0  \n",
            "\n",
            "[1338 rows x 14 columns]\n"
          ]
        }
      ]
    }
  ]
}